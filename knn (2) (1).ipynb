{
 "cells": [
  {
   "cell_type": "markdown",
   "id": "503ad64d",
   "metadata": {},
   "source": [
    "### Exploring the Iris dataset"
   ]
  },
  {
   "cell_type": "code",
   "execution_count": 16,
   "id": "9b160afa",
   "metadata": {},
   "outputs": [],
   "source": [
    "import numpy as np\n",
    "import pandas as pd\n",
    "from collections import Counter\n",
    "import matplotlib.pyplot as plt\n",
    "import seaborn as sns\n",
    "from sklearn import datasets, preprocessing\n",
    "from sklearn.model_selection import train_test_split"
   ]
  },
  {
   "cell_type": "code",
   "execution_count": 256,
   "id": "6ad7124c",
   "metadata": {},
   "outputs": [],
   "source": [
    "iris = pd.read_csv('iris.data', header=None)"
   ]
  },
  {
   "cell_type": "code",
   "execution_count": 257,
   "id": "e413170f",
   "metadata": {},
   "outputs": [],
   "source": [
    "iris.columns = ['sepal_length', 'sepal_width', 'petal_length', 'petal_width', 'species']"
   ]
  },
  {
   "cell_type": "code",
   "execution_count": 258,
   "id": "e1e7cbd9",
   "metadata": {},
   "outputs": [
    {
     "data": {
      "text/plain": [
       "(150, 5)"
      ]
     },
     "execution_count": 258,
     "metadata": {},
     "output_type": "execute_result"
    }
   ],
   "source": [
    "iris.shape"
   ]
  },
  {
   "cell_type": "code",
   "execution_count": 259,
   "id": "0de65bd8",
   "metadata": {},
   "outputs": [
    {
     "data": {
      "text/html": [
       "<div>\n",
       "<style scoped>\n",
       "    .dataframe tbody tr th:only-of-type {\n",
       "        vertical-align: middle;\n",
       "    }\n",
       "\n",
       "    .dataframe tbody tr th {\n",
       "        vertical-align: top;\n",
       "    }\n",
       "\n",
       "    .dataframe thead th {\n",
       "        text-align: right;\n",
       "    }\n",
       "</style>\n",
       "<table border=\"1\" class=\"dataframe\">\n",
       "  <thead>\n",
       "    <tr style=\"text-align: right;\">\n",
       "      <th></th>\n",
       "      <th>sepal_length</th>\n",
       "      <th>sepal_width</th>\n",
       "      <th>petal_length</th>\n",
       "      <th>petal_width</th>\n",
       "      <th>species</th>\n",
       "    </tr>\n",
       "  </thead>\n",
       "  <tbody>\n",
       "    <tr>\n",
       "      <th>0</th>\n",
       "      <td>5.1</td>\n",
       "      <td>3.5</td>\n",
       "      <td>1.4</td>\n",
       "      <td>0.2</td>\n",
       "      <td>Iris-setosa</td>\n",
       "    </tr>\n",
       "    <tr>\n",
       "      <th>1</th>\n",
       "      <td>4.9</td>\n",
       "      <td>3.0</td>\n",
       "      <td>1.4</td>\n",
       "      <td>0.2</td>\n",
       "      <td>Iris-setosa</td>\n",
       "    </tr>\n",
       "    <tr>\n",
       "      <th>2</th>\n",
       "      <td>4.7</td>\n",
       "      <td>3.2</td>\n",
       "      <td>1.3</td>\n",
       "      <td>0.2</td>\n",
       "      <td>Iris-setosa</td>\n",
       "    </tr>\n",
       "    <tr>\n",
       "      <th>3</th>\n",
       "      <td>4.6</td>\n",
       "      <td>3.1</td>\n",
       "      <td>1.5</td>\n",
       "      <td>0.2</td>\n",
       "      <td>Iris-setosa</td>\n",
       "    </tr>\n",
       "    <tr>\n",
       "      <th>4</th>\n",
       "      <td>5.0</td>\n",
       "      <td>3.6</td>\n",
       "      <td>1.4</td>\n",
       "      <td>0.2</td>\n",
       "      <td>Iris-setosa</td>\n",
       "    </tr>\n",
       "    <tr>\n",
       "      <th>...</th>\n",
       "      <td>...</td>\n",
       "      <td>...</td>\n",
       "      <td>...</td>\n",
       "      <td>...</td>\n",
       "      <td>...</td>\n",
       "    </tr>\n",
       "    <tr>\n",
       "      <th>145</th>\n",
       "      <td>6.7</td>\n",
       "      <td>3.0</td>\n",
       "      <td>5.2</td>\n",
       "      <td>2.3</td>\n",
       "      <td>Iris-virginica</td>\n",
       "    </tr>\n",
       "    <tr>\n",
       "      <th>146</th>\n",
       "      <td>6.3</td>\n",
       "      <td>2.5</td>\n",
       "      <td>5.0</td>\n",
       "      <td>1.9</td>\n",
       "      <td>Iris-virginica</td>\n",
       "    </tr>\n",
       "    <tr>\n",
       "      <th>147</th>\n",
       "      <td>6.5</td>\n",
       "      <td>3.0</td>\n",
       "      <td>5.2</td>\n",
       "      <td>2.0</td>\n",
       "      <td>Iris-virginica</td>\n",
       "    </tr>\n",
       "    <tr>\n",
       "      <th>148</th>\n",
       "      <td>6.2</td>\n",
       "      <td>3.4</td>\n",
       "      <td>5.4</td>\n",
       "      <td>2.3</td>\n",
       "      <td>Iris-virginica</td>\n",
       "    </tr>\n",
       "    <tr>\n",
       "      <th>149</th>\n",
       "      <td>5.9</td>\n",
       "      <td>3.0</td>\n",
       "      <td>5.1</td>\n",
       "      <td>1.8</td>\n",
       "      <td>Iris-virginica</td>\n",
       "    </tr>\n",
       "  </tbody>\n",
       "</table>\n",
       "<p>150 rows × 5 columns</p>\n",
       "</div>"
      ],
      "text/plain": [
       "     sepal_length  sepal_width  petal_length  petal_width         species\n",
       "0             5.1          3.5           1.4          0.2     Iris-setosa\n",
       "1             4.9          3.0           1.4          0.2     Iris-setosa\n",
       "2             4.7          3.2           1.3          0.2     Iris-setosa\n",
       "3             4.6          3.1           1.5          0.2     Iris-setosa\n",
       "4             5.0          3.6           1.4          0.2     Iris-setosa\n",
       "..            ...          ...           ...          ...             ...\n",
       "145           6.7          3.0           5.2          2.3  Iris-virginica\n",
       "146           6.3          2.5           5.0          1.9  Iris-virginica\n",
       "147           6.5          3.0           5.2          2.0  Iris-virginica\n",
       "148           6.2          3.4           5.4          2.3  Iris-virginica\n",
       "149           5.9          3.0           5.1          1.8  Iris-virginica\n",
       "\n",
       "[150 rows x 5 columns]"
      ]
     },
     "execution_count": 259,
     "metadata": {},
     "output_type": "execute_result"
    }
   ],
   "source": [
    "iris"
   ]
  },
  {
   "cell_type": "code",
   "execution_count": 260,
   "id": "96e869a7",
   "metadata": {},
   "outputs": [
    {
     "data": {
      "text/plain": [
       "Iris-setosa        50\n",
       "Iris-versicolor    50\n",
       "Iris-virginica     50\n",
       "Name: species, dtype: int64"
      ]
     },
     "execution_count": 260,
     "metadata": {},
     "output_type": "execute_result"
    }
   ],
   "source": [
    "iris['species'].value_counts()"
   ]
  },
  {
   "cell_type": "code",
   "execution_count": 261,
   "id": "7d30b3ca",
   "metadata": {},
   "outputs": [
    {
     "data": {
      "image/png": "[encoded data removed]",
      "text/plain": [
       "<Figure size 432.5x300 with 1 Axes>"
      ]
     },
     "metadata": {},
     "output_type": "display_data"
    }
   ],
   "source": [
    "sns.set_style('whitegrid')\n",
    "sns.FacetGrid(iris, hue = 'species').map(plt.scatter, 'petal_length', 'petal_width', s=15).add_legend()\n",
    "plt.show()"
   ]
  },
  {
   "cell_type": "code",
   "execution_count": 262,
   "id": "faf262bf",
   "metadata": {},
   "outputs": [],
   "source": [
    "# Converting the 'species' column in a numerical column of the iris dataframe\n",
    "\n",
    "label_encoder = preprocessing.LabelEncoder()\n",
    "iris['species'] = label_encoder.fit_transform(iris['species'])"
   ]
  },
  {
   "cell_type": "code",
   "execution_count": 263,
   "id": "4f72c5fb",
   "metadata": {},
   "outputs": [
    {
     "data": {
      "text/html": [
       "<div>\n",
       "<style scoped>\n",
       "    .dataframe tbody tr th:only-of-type {\n",
       "        vertical-align: middle;\n",
       "    }\n",
       "\n",
       "    .dataframe tbody tr th {\n",
       "        vertical-align: top;\n",
       "    }\n",
       "\n",
       "    .dataframe thead th {\n",
       "        text-align: right;\n",
       "    }\n",
       "</style>\n",
       "<table border=\"1\" class=\"dataframe\">\n",
       "  <thead>\n",
       "    <tr style=\"text-align: right;\">\n",
       "      <th></th>\n",
       "      <th>sepal_length</th>\n",
       "      <th>sepal_width</th>\n",
       "      <th>petal_length</th>\n",
       "      <th>petal_width</th>\n",
       "      <th>species</th>\n",
       "    </tr>\n",
       "  </thead>\n",
       "  <tbody>\n",
       "    <tr>\n",
       "      <th>0</th>\n",
       "      <td>5.1</td>\n",
       "      <td>3.5</td>\n",
       "      <td>1.4</td>\n",
       "      <td>0.2</td>\n",
       "      <td>0</td>\n",
       "    </tr>\n",
       "    <tr>\n",
       "      <th>1</th>\n",
       "      <td>4.9</td>\n",
       "      <td>3.0</td>\n",
       "      <td>1.4</td>\n",
       "      <td>0.2</td>\n",
       "      <td>0</td>\n",
       "    </tr>\n",
       "    <tr>\n",
       "      <th>2</th>\n",
       "      <td>4.7</td>\n",
       "      <td>3.2</td>\n",
       "      <td>1.3</td>\n",
       "      <td>0.2</td>\n",
       "      <td>0</td>\n",
       "    </tr>\n",
       "    <tr>\n",
       "      <th>3</th>\n",
       "      <td>4.6</td>\n",
       "      <td>3.1</td>\n",
       "      <td>1.5</td>\n",
       "      <td>0.2</td>\n",
       "      <td>0</td>\n",
       "    </tr>\n",
       "    <tr>\n",
       "      <th>4</th>\n",
       "      <td>5.0</td>\n",
       "      <td>3.6</td>\n",
       "      <td>1.4</td>\n",
       "      <td>0.2</td>\n",
       "      <td>0</td>\n",
       "    </tr>\n",
       "    <tr>\n",
       "      <th>...</th>\n",
       "      <td>...</td>\n",
       "      <td>...</td>\n",
       "      <td>...</td>\n",
       "      <td>...</td>\n",
       "      <td>...</td>\n",
       "    </tr>\n",
       "    <tr>\n",
       "      <th>145</th>\n",
       "      <td>6.7</td>\n",
       "      <td>3.0</td>\n",
       "      <td>5.2</td>\n",
       "      <td>2.3</td>\n",
       "      <td>2</td>\n",
       "    </tr>\n",
       "    <tr>\n",
       "      <th>146</th>\n",
       "      <td>6.3</td>\n",
       "      <td>2.5</td>\n",
       "      <td>5.0</td>\n",
       "      <td>1.9</td>\n",
       "      <td>2</td>\n",
       "    </tr>\n",
       "    <tr>\n",
       "      <th>147</th>\n",
       "      <td>6.5</td>\n",
       "      <td>3.0</td>\n",
       "      <td>5.2</td>\n",
       "      <td>2.0</td>\n",
       "      <td>2</td>\n",
       "    </tr>\n",
       "    <tr>\n",
       "      <th>148</th>\n",
       "      <td>6.2</td>\n",
       "      <td>3.4</td>\n",
       "      <td>5.4</td>\n",
       "      <td>2.3</td>\n",
       "      <td>2</td>\n",
       "    </tr>\n",
       "    <tr>\n",
       "      <th>149</th>\n",
       "      <td>5.9</td>\n",
       "      <td>3.0</td>\n",
       "      <td>5.1</td>\n",
       "      <td>1.8</td>\n",
       "      <td>2</td>\n",
       "    </tr>\n",
       "  </tbody>\n",
       "</table>\n",
       "<p>150 rows × 5 columns</p>\n",
       "</div>"
      ],
      "text/plain": [
       "     sepal_length  sepal_width  petal_length  petal_width  species\n",
       "0             5.1          3.5           1.4          0.2        0\n",
       "1             4.9          3.0           1.4          0.2        0\n",
       "2             4.7          3.2           1.3          0.2        0\n",
       "3             4.6          3.1           1.5          0.2        0\n",
       "4             5.0          3.6           1.4          0.2        0\n",
       "..            ...          ...           ...          ...      ...\n",
       "145           6.7          3.0           5.2          2.3        2\n",
       "146           6.3          2.5           5.0          1.9        2\n",
       "147           6.5          3.0           5.2          2.0        2\n",
       "148           6.2          3.4           5.4          2.3        2\n",
       "149           5.9          3.0           5.1          1.8        2\n",
       "\n",
       "[150 rows x 5 columns]"
      ]
     },
     "execution_count": 263,
     "metadata": {},
     "output_type": "execute_result"
    }
   ],
   "source": [
    "iris"
   ]
  },
  {
   "cell_type": "markdown",
   "id": "e8776643",
   "metadata": {},
   "source": [
    "### Implementing the own built KNN model"
   ]
  },
  {
   "cell_type": "code",
   "execution_count": 17,
   "id": "bdd95f5d",
   "metadata": {},
   "outputs": [],
   "source": [
    "# function for finding Euclidian Distance\n",
    "\n",
    "def euclidean_distance(x1, x2):\n",
    "    distance = np.sqrt(np.sum((x1 - x2)**2))\n",
    "    return distance"
   ]
  },
  {
   "cell_type": "code",
   "execution_count": 18,
   "id": "73215f1e",
   "metadata": {},
   "outputs": [],
   "source": [
    "class KNN:\n",
    "    def __init__(self, k = 3):    # default value of k = 3\n",
    "        self.k = k\n",
    "    \n",
    "    def fit(self, X, y):\n",
    "        self.X_train = X\n",
    "        self.y_train = y\n",
    "        \n",
    "    def _predict(self, x):\n",
    "        \n",
    "        # calculating distances from all the training points\n",
    "        distances = [euclidean_distance(x, x_train) for x_train in self.X_train] \n",
    "        \n",
    "        # np.argsort returns the indices that would sort an array.\n",
    "        k_indices = np.argsort(distances)[:self.k]\n",
    "        \n",
    "        # choosing indices of k nearest points\n",
    "        k_nearest_labels = [self.y_train[i] for i in k_indices]\n",
    "        \n",
    "        # most_common returns a list of all elements and their counts\n",
    "        most_common = Counter(k_nearest_labels).most_common()\n",
    "        return most_common[0][0]\n",
    "    \n",
    "    def predict(self, X):\n",
    "        predictions = [self._predict(x) for x in X]\n",
    "        return predictions"
   ]
  },
  {
   "cell_type": "code",
   "execution_count": 268,
   "id": "dd16515c",
   "metadata": {},
   "outputs": [],
   "source": [
    "X = iris.iloc[:, :4].values # selected the first 4 columns of all rows"
   ]
  },
  {
   "cell_type": "code",
   "execution_count": 269,
   "id": "a44f47f1",
   "metadata": {},
   "outputs": [],
   "source": [
    "y = iris.iloc[:, 4].values # selected the 5th column of all the rows"
   ]
  },
  {
   "cell_type": "code",
   "execution_count": 270,
   "id": "34e3ad24",
   "metadata": {},
   "outputs": [],
   "source": [
    "X_train, X_test, y_train, y_test = train_test_split(X, y, test_size=0.20, random_state = 1234)"
   ]
  },
  {
   "cell_type": "code",
   "execution_count": 271,
   "id": "9a6eabf6",
   "metadata": {},
   "outputs": [
    {
     "name": "stdout",
     "output_type": "stream",
     "text": [
      "[1, 1, 2, 0, 1, 0, 0, 0, 1, 2, 1, 0, 2, 1, 0, 1, 2, 0, 2, 1, 1, 1, 1, 1, 2, 0, 2, 1, 2, 0]\n"
     ]
    }
   ],
   "source": [
    "classifier = KNN(k = 4)\n",
    "classifier.fit(X_train, y_train)\n",
    "predictions = classifier.predict(X_test)\n",
    "print(predictions)"
   ]
  },
  {
   "cell_type": "code",
   "execution_count": 272,
   "id": "f822a6f9",
   "metadata": {},
   "outputs": [
    {
     "name": "stdout",
     "output_type": "stream",
     "text": [
      "1.0\n"
     ]
    }
   ],
   "source": [
    "acc = np.sum(predictions == y_test) / len(y_test)\n",
    "print(acc)"
   ]
  },
  {
   "cell_type": "markdown",
   "id": "2f27ebf3",
   "metadata": {},
   "source": [
    "### Scikit-learn implementation of KNN algorithm"
   ]
  },
  {
   "cell_type": "code",
   "execution_count": 273,
   "id": "52116aba",
   "metadata": {},
   "outputs": [],
   "source": [
    "from sklearn.neighbors import KNeighborsClassifier\n",
    "from sklearn.metrics import confusion_matrix, accuracy_score"
   ]
  },
  {
   "cell_type": "code",
   "execution_count": 274,
   "id": "86d6d047",
   "metadata": {},
   "outputs": [],
   "source": [
    "classifier_2 = KNeighborsClassifier(n_neighbors=4)"
   ]
  },
  {
   "cell_type": "code",
   "execution_count": 275,
   "id": "a24e54f9",
   "metadata": {},
   "outputs": [
    {
     "name": "stdout",
     "output_type": "stream",
     "text": [
      "1.0\n"
     ]
    }
   ],
   "source": [
    "classifier_2.fit(X_train, y_train)\n",
    "y_pred = classifier_2.predict(X_test)\n",
    "accuracy = accuracy_score(y_test, y_pred)\n",
    "print(accuracy)"
   ]
  },
  {
   "cell_type": "markdown",
   "id": "940c8be0",
   "metadata": {},
   "source": [
    "###### Experimenting with different values of k"
   ]
  },
  {
   "cell_type": "code",
   "execution_count": 276,
   "id": "fa977264",
   "metadata": {},
   "outputs": [
    {
     "name": "stdout",
     "output_type": "stream",
     "text": [
      "0.9666666666666667\n"
     ]
    }
   ],
   "source": [
    "classifier_3 = KNeighborsClassifier(n_neighbors=5)\n",
    "classifier_3.fit(X_train, y_train)\n",
    "y_pred = classifier_3.predict(X_test)\n",
    "accuracy = accuracy_score(y_test, y_pred)\n",
    "print(accuracy)"
   ]
  },
  {
   "cell_type": "code",
   "execution_count": 277,
   "id": "c1e783db",
   "metadata": {},
   "outputs": [
    {
     "name": "stdout",
     "output_type": "stream",
     "text": [
      "1.0\n"
     ]
    }
   ],
   "source": [
    "classifier_4 = KNeighborsClassifier(n_neighbors=6)\n",
    "classifier_4.fit(X_train, y_train)\n",
    "y_pred = classifier_4.predict(X_test)\n",
    "accuracy = accuracy_score(y_test, y_pred)\n",
    "print(accuracy)"
   ]
  },
  {
   "cell_type": "code",
   "execution_count": 278,
   "id": "d1571f04",
   "metadata": {},
   "outputs": [
    {
     "name": "stdout",
     "output_type": "stream",
     "text": [
      "0.9666666666666667\n"
     ]
    }
   ],
   "source": [
    "classifier_5 = KNeighborsClassifier(n_neighbors=7)\n",
    "classifier_5.fit(X_train, y_train)\n",
    "y_pred = classifier_5.predict(X_test)\n",
    "accuracy = accuracy_score(y_test, y_pred)\n",
    "print(accuracy)"
   ]
  },
  {
   "cell_type": "code",
   "execution_count": 279,
   "id": "454d1984",
   "metadata": {},
   "outputs": [
    {
     "name": "stdout",
     "output_type": "stream",
     "text": [
      "1.0\n"
     ]
    }
   ],
   "source": [
    "classifier_6 = KNeighborsClassifier(n_neighbors=8)\n",
    "classifier_6.fit(X_train, y_train)\n",
    "y_pred = classifier_6.predict(X_test)\n",
    "accuracy = accuracy_score(y_test, y_pred)\n",
    "print(accuracy)"
   ]
  },
  {
   "cell_type": "markdown",
   "id": "d6a0f4e3",
   "metadata": {},
   "source": [
    "## KNN algorithm on randomly generated dataset"
   ]
  },
  {
   "cell_type": "code",
   "execution_count": 297,
   "id": "66f57f87",
   "metadata": {},
   "outputs": [
    {
     "name": "stdout",
     "output_type": "stream",
     "text": [
      "(500, 4)\n"
     ]
    }
   ],
   "source": [
    "X_1 = np.random.rand(500, 4)\n",
    "print(X_1.shape)"
   ]
  },
  {
   "cell_type": "code",
   "execution_count": 298,
   "id": "8d74c535",
   "metadata": {},
   "outputs": [
    {
     "data": {
      "text/plain": [
       "'\\nhpstack: This is equivalent to concatenation in the direction of column\\n        but since here our array is 1-D so it is concatenating along the first axis.\\n             \\nnp.full: numpy.full(shape, fill_value)\\n        Returns a new array of given shape and dtype(optional), filled with fill_value.\\n\\n'"
      ]
     },
     "execution_count": 298,
     "metadata": {},
     "output_type": "execute_result"
    }
   ],
   "source": [
    "y_1 = np.hstack([np.full(100, i) for i in range(5)])\n",
    "# print(y_1.shape)\n",
    "'''\n",
    "hpstack: This is equivalent to concatenation in the direction of column\n",
    "        but since here our array is 1-D so it is concatenating along the first axis.\n",
    "             \n",
    "np.full: numpy.full(shape, fill_value)\n",
    "        Returns a new array of given shape and dtype(optional), filled with fill_value.\n",
    "\n",
    "'''   "
   ]
  },
  {
   "cell_type": "code",
   "execution_count": 299,
   "id": "c51bcb6c",
   "metadata": {},
   "outputs": [],
   "source": [
    "X_train, X_test, y_train, y_test = train_test_split(X_1, y_1, test_size=0.20, random_state = 1234)"
   ]
  },
  {
   "cell_type": "markdown",
   "id": "e19d138b",
   "metadata": {},
   "source": [
    "#### Testing it with the sklearn model"
   ]
  },
  {
   "cell_type": "code",
   "execution_count": 300,
   "id": "3d849535",
   "metadata": {},
   "outputs": [],
   "source": [
    "classifier_7 = KNeighborsClassifier(n_neighbors=4)"
   ]
  },
  {
   "cell_type": "code",
   "execution_count": 301,
   "id": "6e17569b",
   "metadata": {},
   "outputs": [
    {
     "name": "stdout",
     "output_type": "stream",
     "text": [
      "0.2\n"
     ]
    }
   ],
   "source": [
    "classifier_7.fit(X_train, y_train)\n",
    "y_pred = classifier_7.predict(X_test)\n",
    "accuracy = accuracy_score(y_test, y_pred)\n",
    "print(accuracy)"
   ]
  },
  {
   "cell_type": "markdown",
   "id": "386bd329",
   "metadata": {},
   "source": [
    "we can see that the accuracy is quite bad as expected"
   ]
  },
  {
   "cell_type": "markdown",
   "id": "e61ffa6c",
   "metadata": {},
   "source": [
    "#### Testing it with own built model"
   ]
  },
  {
   "cell_type": "code",
   "execution_count": 304,
   "id": "df51a21c",
   "metadata": {},
   "outputs": [],
   "source": [
    "classifier_8 = KNN(k = 4)"
   ]
  },
  {
   "cell_type": "code",
   "execution_count": 310,
   "id": "fc2e360c",
   "metadata": {},
   "outputs": [
    {
     "name": "stdout",
     "output_type": "stream",
     "text": [
      "0.19\n"
     ]
    }
   ],
   "source": [
    "classifier_8.fit(X_train, y_train)\n",
    "y_pred = classifier_8.predict(X_test)\n",
    "accuracy = np.sum(y_pred == y_test) / len(y_test)\n",
    "print(accuracy)"
   ]
  },
  {
   "cell_type": "markdown",
   "id": "f5334ad0",
   "metadata": {},
   "source": [
    "Similarly, bad accuracy here as well!\n",
    "By this assessment we can conclude that the KNN algorithm performs quite bad if the data is somewhat random."
   ]
  },
  {
   "cell_type": "markdown",
   "id": "be533433",
   "metadata": {},
   "source": [
    "## KNN algorithm on randomly generated dataset with class probabilities"
   ]
  },
  {
   "cell_type": "code",
   "execution_count": 3,
   "id": "4492a102",
   "metadata": {},
   "outputs": [],
   "source": [
    "from sklearn.datasets import make_classification\n",
    "\n",
    "# make_classification generates random data with the given probabilities, given no. of classes and features"
   ]
  },
  {
   "cell_type": "code",
   "execution_count": 21,
   "id": "2226983a",
   "metadata": {},
   "outputs": [],
   "source": [
    "X, y = make_classification(n_samples=500, n_features=4, n_classes=3, \n",
    "                           class_sep=2, n_informative=4, \n",
    "                           n_redundant=0, n_clusters_per_class=1, \n",
    "                           flip_y=0.01,weights=[0.4, 0.3, 0.3], random_state=1)\n",
    "\n",
    "# here we generated a dataset with the shape (500, 4) and 3 classes with probabilities 0.4, 0.3, 0.3 respectively"
   ]
  },
  {
   "cell_type": "markdown",
   "id": "2f7a422d",
   "metadata": {},
   "source": [
    "#### Let's visualize this dataset"
   ]
  },
  {
   "cell_type": "code",
   "execution_count": 22,
   "id": "97ab19f7",
   "metadata": {},
   "outputs": [
    {
     "name": "stdout",
     "output_type": "stream",
     "text": [
      "(500, 4)\n",
      "(500,)\n"
     ]
    }
   ],
   "source": [
    "print(X.shape)\n",
    "print(y.shape)"
   ]
  },
  {
   "cell_type": "code",
   "execution_count": 23,
   "id": "16e4d9c3",
   "metadata": {},
   "outputs": [
    {
     "data": {
      "image/png": "[encoded data removed]",
      "text/plain": [
       "<Figure size 640x480 with 1 Axes>"
      ]
     },
     "metadata": {},
     "output_type": "display_data"
    }
   ],
   "source": [
    "sns.scatterplot(x=X[:, 0], y=X[:, 1], hue=y, palette=\"rainbow\") # using the first two features\n",
    "\n",
    "# Add a title and axis labels\n",
    "plt.title(\"Scatter plot of the generated dataset\")\n",
    "plt.xlabel(\"Feature 1\")\n",
    "plt.ylabel(\"Feature 2\")\n",
    "\n",
    "# Show the plot\n",
    "plt.show()"
   ]
  },
  {
   "cell_type": "markdown",
   "id": "2aa27f30",
   "metadata": {},
   "source": [
    "3-D interactive visualization"
   ]
  },
  {
   "cell_type": "code",
   "execution_count": 24,
   "id": "81a6eacd",
   "metadata": {},
   "outputs": [
    {
     "data": {
      "application/vnd.plotly.v1+json": {
       "config": {
        "plotlyServerURL": "https://plot.ly"
       },
       "data": [
        {
         "marker": {
          "color": "red",
          "opacity": 0.8,
          "size": 4
         },
         "mode": "markers",
         "name": "0",
         "type": "scatter3d",
         "x": [
          -2.872017936962414,
          -0.1512017932201506,
          -2.8001877431767666,
          -2.008249225359646,
          -2.721788396526077,
          -2.329371632872244,
          0.162253493570649,
          -3.8396926232957087,
          -0.9217605673078828,
          -0.9461004254061289,
          -2.500903985818903,
          -1.3463564803971306,
          -2.017610690432701,
          -2.5495132674122987,
          -2.758974175758737,
          -3.68532983810976,
          -2.435905686366275,
          -1.0262413389646996,
          -1.8775691906120053,
          -2.378544092656536,
          -2.5401088707377064,
          -4.504323905522044,
          -1.0016801759408465,
          -2.406985393804852,
          -3.3636300793787015,
          -4.763130008719419,
          -3.226489947259625,
          -3.3151474985216263,
          -3.4078888496051127,
          -1.765792540327365,
          -3.12794457244262,
          -1.1966353973575,
          -3.9834293080988514,
          -3.5178643321406,
          -2.3038015363736593,
          -2.219214354955773,
          -1.581911175398173,
          -2.2341188598108275,
          -4.220646759638658,
          -1.8273681931558674,
          -1.0601834408934434,
          -2.605859161267705,
          -2.834855429529238,
          -0.08685856569936856,
          -0.6609179263294109,
          -1.5654528443892937,
          -0.911425665872089,
          -1.9109198968690948,
          -2.544808849253627,
          -1.3385332209601741,
          -1.5615638500512312,
          -3.8767842847127456,
          0.3784578774791245,
          -2.912540902221983,
          -1.4257340432926826,
          -2.7253171333160155,
          -1.8086390173992526,
          -3.528434510727873,
          -1.1822015466607083,
          0.20727089051713943,
          -1.2957935630106814,
          -1.228822154431073,
          -2.7639328117986786,
          -1.0184717814734265,
          -1.1311408748888545,
          -3.2127345437907353,
          -2.177196116175464,
          -2.625581754765429,
          -0.4687509263712777,
          -2.9123698422010094,
          -3.8566604757321565,
          -1.9643426670435975,
          -1.9792157668975354,
          -1.6892724224100697,
          -2.8821286950653886,
          -2.1395534638142872,
          -3.457005121413606,
          -4.416569483420576,
          0.22369259715000345,
          -2.7937554594525107,
          -3.4594599749533277,
          -2.4628404284394065,
          -0.6741285079730635,
          -1.499694826863586,
          -1.231485415513927,
          -2.6223780078220216,
          -1.4254593168623342,
          -0.2838545940140482,
          -3.9932593493921775,
          -2.310199663694758,
          -1.9926711134047619,
          -1.524721877947398,
          -1.6429460028606306,
          -1.097034559350978,
          -3.207386686866954,
          -0.25259315291278917,
          -1.254046810883489,
          -1.203924520882301,
          -0.0890147440465725,
          -1.2458209408471526,
          -3.1572806331864243,
          -0.5766349212770803,
          -1.0008640929740937,
          -3.399010871217409,
          -3.280080719580232,
          0.08942542189310876,
          -0.46467644508407235,
          -1.785136184850252,
          -1.2303113978296227,
          -2.2488564556475454,
          -1.8673560176729356,
          -1.8919398018121096,
          -2.089197514547425,
          0.04954389181237673,
          -2.288945009973561,
          -2.43585245523231,
          -1.9296271919781487,
          -1.5087094313005383,
          -1.8181006646731535,
          -2.5917836154502716,
          -2.1335659553429487,
          -0.7015960378478603,
          -3.6794985468468138,
          -2.8051079822715583,
          -1.5148842797106161,
          -1.9743264884390148,
          -2.150124409006892,
          -4.072260418505967,
          -1.918553020197228,
          -2.8350068144877323,
          -1.114321734485559,
          -1.810301456926174,
          -1.6389848458914054,
          -2.0930999141372815,
          -1.1690756215139777,
          -1.8840624158509125,
          -1.2901857836962618,
          -0.2783950283034482,
          -2.0330669407324633,
          -1.4895421671841573,
          -2.5042907185319008,
          -1.9609089993398483,
          -2.0378234170329845,
          -1.943475609563584,
          -0.4414779666033173,
          -1.6066638541042315,
          -0.7575237896195703,
          -1.284106483836994,
          3.480238357217787,
          -2.64148940929544,
          -0.7708947673491151,
          -1.6538312308791396,
          -2.691185128792327,
          -0.8411381136035012,
          -0.8425348686863094,
          -0.37428459134660685,
          -1.6191310211549157,
          -2.002365748420083,
          -2.602229806872442,
          -2.2966116065961426,
          -0.6893372005679947,
          -1.1332488462474373,
          -2.2760292357887986,
          -3.671810223989454,
          -0.00018854450161720493,
          -3.2499630034607234,
          -1.697919181702595,
          -3.169181242236008,
          -2.050098933015941,
          -1.1208603208542534,
          -2.1500523625363854,
          -2.6698343572826517,
          -1.031323793623133,
          -1.8251175040130356,
          -1.247306128981844,
          -3.4257150757050336,
          -2.7371711365890867,
          -1.6375371699167127,
          -2.9486002354476906,
          -2.2759565541502234,
          -2.7013429112037035,
          -1.0944739739611098,
          -3.2400671638410614,
          -1.1955590517983405,
          -3.411550492754156,
          -1.6080774389399053,
          -1.044659923061015,
          -2.537177949088728,
          -3.251876502945737,
          -0.277697075894658,
          -2.8623829951657105,
          -2.141362822654126,
          -1.089591193067223,
          -3.0656812152136643,
          -0.9976626263015647,
          -3.1337023225712635,
          -2.281084021288062,
          -2.346282752431799,
          -2.6297403379019926,
          0.06548826795421725,
          -2.6478163808691697
         ],
         "y": [
          -2.7098728304258928,
          -1.1093728303113806,
          -1.3712702738262976,
          -2.6548014708671985,
          -2.44002901226971,
          -1.6476995378046921,
          -1.8778724525800452,
          -3.6280959493394813,
          -4.028629200280816,
          -2.2591714631062514,
          -0.327652211527377,
          0.29175496641285514,
          -3.5288670135880653,
          -2.4848682861907614,
          -3.7343355566841856,
          -1.9482192755694776,
          -0.8226749957059436,
          -3.7862535730683495,
          -2.8279801546595005,
          -2.7484341031695156,
          -2.7027449565961894,
          -1.829012834076982,
          -2.794913864406083,
          -2.9583278484603284,
          -2.2791625581122235,
          -3.767075054877501,
          -1.8531468860560745,
          -2.817536601615654,
          -4.092353123880106,
          -2.5380870849431303,
          -1.046446993780394,
          -2.160290962079136,
          -2.0962435852471915,
          -1.493669269330679,
          -5.175117883186453,
          -1.3027901861317583,
          -0.8543325254694443,
          -1.543868892959552,
          -2.758449449855606,
          -2.5691153897391024,
          -0.7744581567808417,
          -2.3189345070736196,
          -1.6626131007716116,
          -1.9593314488467366,
          -1.7598167502866198,
          -0.7022789660339843,
          -2.419310658849374,
          -1.9970634673734622,
          -0.795300224780408,
          -1.3115296302560298,
          -2.6133454157442833,
          -4.352846427132302,
          -1.6706043676328386,
          -2.4125034922861293,
          -2.122648171729051,
          -3.960921493927966,
          -2.129783613092703,
          -2.829588851171415,
          -2.7330594248151256,
          -0.476890093261674,
          -3.48001329661529,
          -1.3366677723638918,
          -0.5540025593038758,
          -0.17993271104018116,
          0.5080633874981069,
          -3.843200612305061,
          -0.77541729701107,
          -2.4010001083810706,
          -1.515981717562516,
          -2.4395644770764906,
          -2.955913256383585,
          -2.310960515430804,
          -0.8510990442531938,
          -2.0932194986289328,
          -2.0074300440835775,
          -3.4742974390368015,
          -4.333674462827134,
          -5.11104699139158,
          -1.6276949137804757,
          -2.806705743897508,
          -1.3773894833229563,
          -1.6704377133630877,
          -3.189180037411662,
          -1.566186612561337,
          -1.2403873196473723,
          -2.735338811567332,
          -2.38737372556152,
          -1.4309580526036974,
          -3.3667826989881893,
          0.5755258961900314,
          -1.921823667169257,
          -1.4726661676151367,
          -1.770691208803924,
          -2.617317703682498,
          -1.1014138201928991,
          0.5086003969804072,
          -1.786935477235258,
          -0.7264152501753691,
          0.20687988299071636,
          -2.4855612462359886,
          -2.3624940498437845,
          -0.6876179841234697,
          -3.72992365102665,
          -2.345520446244626,
          -1.187539845852155,
          -1.1730285750997718,
          -1.5910484792869408,
          -0.7224981957714902,
          -2.4772723386245876,
          -3.6115626122250295,
          -2.4017690387076946,
          -1.48130764210029,
          -1.9974896790577206,
          -0.21722719490270048,
          -0.8943491854665913,
          -1.2427979316807858,
          -2.768036944622952,
          -2.0456355993607005,
          -1.5167189726946522,
          -3.52321639907717,
          -0.5302363128248968,
          -1.4822593660563788,
          -3.97015208584752,
          -2.9616182886629225,
          -2.4671989169758457,
          -1.5653966161842794,
          -2.526287637752985,
          -2.3892447018333254,
          -3.002705550648526,
          -1.4611294131046373,
          -2.521868507015925,
          -3.253840112491408,
          -1.381178357649317,
          -1.6161512156017743,
          -2.1880235718053376,
          -2.233754183217477,
          -3.071534013394655,
          -0.4293512457011581,
          -1.2520282691312759,
          -0.8249725883626828,
          -2.37655583851342,
          -1.241432886999379,
          -2.4827999762402313,
          -2.0197048001281535,
          -3.4916604604940096,
          -2.3848887623278285,
          -0.15489892859789656,
          -0.27471854354221725,
          0.4734699269776319,
          -1.7789519718998568,
          -0.8874520909122743,
          -3.5148965633038953,
          -2.502469589525362,
          -2.2909595705490355,
          -0.05307341186683878,
          -2.4341624211717305,
          -1.9418511244329382,
          -1.745936457810592,
          -2.18545740796239,
          -1.604824863271711,
          -1.7305161104963123,
          -1.6974654254661745,
          -2.9230142088043793,
          -3.5010355864821197,
          -1.0302985108275622,
          -1.6332490499018897,
          -1.0614982246287015,
          -4.394318413697005,
          -0.6915039588013334,
          -2.142689973958392,
          -1.8206874799096473,
          -3.3673698666267207,
          -1.3538551693404015,
          -1.7294494592886434,
          -0.2075353267536626,
          -2.2001716222697585,
          -3.943148652466151,
          -0.91163560784733,
          -3.2751014332651893,
          -2.1205395794176196,
          -3.4239117360784475,
          -2.800041369222306,
          -3.7660285268941203,
          -0.9764559799453445,
          -1.120226232988981,
          -2.385270572110379,
          0.23202371543484768,
          -2.505985545839615,
          -1.3612281877849073,
          -1.388477376421481,
          -3.1596722515485753,
          -1.7764783611516473,
          -2.069165759007767,
          -3.318052529425586,
          -0.5341011052460094,
          -2.5638868056413564,
          -2.0152761541280344,
          -1.3276157112506397,
          -0.7439974704883154,
          -2.369703921672876,
          -2.977567128219408
         ],
         "z": [
          1.225422217689467,
          2.224796645666669,
          3.160149120452428,
          0.9701804958632922,
          2.158870720149035,
          2.3673224685214653,
          1.7037653518479274,
          1.448310881289805,
          0.18454875481270427,
          1.4184076491807682,
          3.9240830037050536,
          5.426991015704091,
          0.8183661485597313,
          2.3069941304423778,
          0.1311686994709269,
          3.019887641812452,
          3.115341300545884,
          -0.2674301029465904,
          0.6286705855275345,
          1.8467613221731205,
          2.2312915680979444,
          3.1166081626799,
          0.6638000557532788,
          1.4830851578307902,
          2.2357807670603465,
          0.5274884177969645,
          2.328356211511711,
          1.6207068121985673,
          0.012619806809156087,
          1.8976376154395027,
          3.59276030164716,
          1.7016184282872084,
          2.6179547875828004,
          3.309501087961211,
          -2.124574434100765,
          3.34112718972489,
          3.0769189788376785,
          1.6119108144525987,
          1.900286158084784,
          2.280137231778387,
          2.3743855788463812,
          1.6514608637672095,
          1.2063657016730271,
          0.9963900306093061,
          1.7113801632070087,
          2.445969264237215,
          1.5343882507289783,
          1.903592216592592,
          3.5552774883423712,
          2.206316261252324,
          0.9251237801989929,
          0.2530097671972491,
          1.6483295248103778,
          2.090921502619408,
          1.5075465315412375,
          0.21816060011770433,
          1.7498473276525761,
          0.9994170011119163,
          1.5676792724784698,
          2.886070409468743,
          0.5145376414076812,
          2.9974767448388193,
          4.064445306271282,
          3.495064988580334,
          3.929311384266649,
          -0.39147127803061466,
          3.103419600751523,
          1.7896308211830394,
          3.2751002681666277,
          2.2603493177341147,
          1.5916751433007512,
          2.1213725064424045,
          3.129465400336916,
          1.936752247008288,
          1.7951114556234002,
          1.25537706364676,
          0.3000380468414474,
          -1.0923720394638807,
          2.151296961746457,
          1.2813210031933213,
          3.1873351891362316,
          2.3430762324934635,
          1.0357478038173364,
          1.7377397799468597,
          2.9849621041374,
          2.094860050132923,
          1.8406396643602863,
          1.8559703533712972,
          1.2552952626933576,
          4.357927144528945,
          2.234811035946132,
          1.6394329477507767,
          1.418485487535496,
          1.2519966993091958,
          3.3687778519082947,
          4.589270369107892,
          1.7260570856591984,
          3.0192234842270116,
          3.445419588753841,
          1.478438744964432,
          1.7764149022900753,
          3.0154752018227517,
          0.3514667720455251,
          1.553331231681467,
          2.0654773003238365,
          2.6739797209410203,
          2.030942861087227,
          3.2347412589189055,
          1.58546499438919,
          -0.17763634084972324,
          2.1941532745065766,
          2.3155303114448227,
          1.265502374786014,
          3.120894081944314,
          2.5603371186973933,
          2.927593998442165,
          1.4099210396618203,
          2.013391239415138,
          2.214925347536817,
          0.7911479235502978,
          3.296314051240217,
          1.9290210403809032,
          0.6096340785295848,
          1.1609319168401404,
          1.4424836638204925,
          2.141183517537106,
          1.8577997589501618,
          1.8825101648427107,
          0.920504660127357,
          2.7007265061032433,
          1.616976618389807,
          0.8907900289591062,
          2.5492093206754936,
          3.1989984139225056,
          0.9364964291991176,
          1.1158281391095137,
          0.8569992718299853,
          3.4986215107439644,
          3.8454749251362723,
          2.9457994064196984,
          1.8244987587178103,
          3.1325801261424697,
          1.8523620737027142,
          2.0542312317953555,
          -0.16624591659748766,
          1.6430895779011965,
          3.742963101138475,
          3.4733197576708124,
          -1.6593636942347247,
          2.4371068576470596,
          2.6239111870883045,
          0.819987388015498,
          1.0942735998911353,
          1.681746770173499,
          3.9724940360987286,
          0.6275970947461491,
          1.7012413538251685,
          2.7560805524403515,
          2.3179565711447268,
          2.44033926588406,
          1.7892283720770485,
          1.2100751579980837,
          0.848206683719491,
          1.2811305602564649,
          2.4863378091920336,
          2.808718532330373,
          2.987116632558666,
          0.5999839457419778,
          3.291861047190933,
          1.9751284267180769,
          2.907011876306791,
          1.1755464417587964,
          2.1000185775743287,
          2.0821738361871684,
          4.0810459746017,
          2.2374793034438336,
          0.7984110477814848,
          3.150449650323356,
          0.6361970801701469,
          2.4621409920900192,
          0.5863569761839384,
          1.314421529474903,
          0.2914241786864522,
          3.1522943525117535,
          3.578457201688572,
          1.6784590121145553,
          3.7888032155017273,
          1.844654940234235,
          3.0029079927830105,
          2.64990979325238,
          1.1103024077765646,
          2.3783200181737705,
          1.7753133739943945,
          0.6863934854691571,
          3.7811204652937596,
          2.4798623773696247,
          1.7004414202745595,
          2.7632100714091545,
          3.96960202735601,
          2.0338757017316653,
          0.9954276315036386
         ]
        },
        {
         "marker": {
          "color": "green",
          "opacity": 0.8,
          "size": 4
         },
         "mode": "markers",
         "name": "1",
         "type": "scatter3d",
         "x": [
          1.2369236841147968,
          2.8552823178779403,
          3.5617497694098947,
          3.099344324973406,
          -0.19930438612237156,
          2.434795409315475,
          2.108954344089227,
          2.3646317576746108,
          1.7019055557330423,
          2.5864894190903174,
          1.718835514061059,
          0.6744734074308087,
          1.6407824646740332,
          2.4098099631728727,
          0.46840748785659647,
          3.3479592777437266,
          0.2634636155698249,
          1.1314695995135509,
          2.4540705912638945,
          5.874381294480402,
          4.115871297837483,
          0.7886497286945009,
          1.442292773350846,
          2.222144245621389,
          3.022149824301696,
          1.547640627552072,
          1.2145968039846182,
          1.294488870746172,
          1.3792206802584244,
          1.6101387849120106,
          -0.16267410149503414,
          3.726172105036656,
          2.46788024444152,
          -0.19784522842046837,
          1.2130800195578941,
          3.678454492909047,
          4.322691474389206,
          1.71151174772865,
          3.0964914778307344,
          0.9686455703454051,
          2.4455563631934663,
          4.168275950836728,
          1.9562893887363337,
          2.2137447964876933,
          0.3796096008897685,
          1.984355926827536,
          1.0811395688656678,
          3.949993726533331,
          1.6574799230172639,
          1.2256212036940919,
          3.0737998872579864,
          1.495673603979092,
          1.9703600711127196,
          0.5336222919150777,
          2.4200184919701684,
          2.3940833551737524,
          1.3151140776751964,
          0.31467484083290764,
          2.222074465432326,
          3.8221369644720546,
          2.5962671325600506,
          0.9564896463958663,
          1.9366080666264718,
          1.5111775319557756,
          2.2746270468470104,
          1.3718182521307185,
          1.0851226523177853,
          2.2786975595649093,
          2.4361681483716158,
          1.8964013569928035,
          2.0475559932101755,
          4.912896074591343,
          0.9726572186686584,
          1.2100343232071196,
          0.47696165078707575,
          3.284303012367625,
          3.502571482222601,
          3.6849237228081337,
          1.2042209217071969,
          -0.07957228460778154,
          1.5869594919077115,
          -0.034637597447062074,
          1.9034081452784095,
          2.4435400187137652,
          2.9244652936235704,
          1.241008572196693,
          4.463717347304384,
          1.1849376274684467,
          3.1430606339378,
          2.457809670929496,
          0.45162998572526925,
          2.541001583957764,
          2.275084210792876,
          0.8903663405598152,
          1.8775083486564013,
          3.0355431302719573,
          1.0352059489168293,
          1.6036430495368723,
          2.3859341442746365,
          1.8688707471690695,
          1.5930340233926101,
          1.2919202882762941,
          1.0940917334578322,
          2.3472889635918817,
          -1.3252737219076627,
          -0.21801057661223489,
          1.6267107336666409,
          1.3481380249048218,
          1.765127587448136,
          2.3646565119459995,
          3.542031950135028,
          1.6579017148922197,
          1.901577347321079,
          3.710485885284673,
          0.5640414859104406,
          4.382819327393768,
          2.4607642961362175,
          2.5970897197360214,
          2.2402245278570687,
          1.9434991522891991,
          1.3645111716303837,
          0.8464539565304687,
          -0.7876651384720859,
          4.49292612389185,
          2.764545157479697,
          1.5345465535088005,
          1.7411259392705023,
          2.374715729447714,
          -1.2022110366559997,
          1.5064566840083173,
          3.7108724954301837,
          1.3431771434190412,
          3.566006393711148,
          0.4518514537106624,
          1.1350410118309124,
          1.9655900731849432,
          2.278731780284499,
          2.414430707038158,
          1.9871098910673546,
          1.2377670065693,
          2.009485309057399,
          2.114289736146149,
          1.668230722511407,
          3.40052979877063,
          1.991661497289835,
          2.2798311762886643,
          3.1855496772755325,
          1.41784337584286,
          2.4905797034556993
         ],
         "y": [
          2.6035877764725504,
          0.46690105496269063,
          -1.0229476153104673,
          0.7505707090087501,
          4.566522350282457,
          2.519978954010407,
          1.0006463171314701,
          0.8009729677272963,
          3.396327299012031,
          1.3441685801785275,
          2.0971353084066178,
          3.02328762803182,
          2.0953613217025686,
          2.1453431520589556,
          4.619607962063719,
          1.0125623285961294,
          3.629179905824002,
          1.8723721760095124,
          1.8891300180843444,
          -2.3801137236728787,
          -0.9421476795397159,
          3.130300020160698,
          2.776699038885284,
          2.2609557604664676,
          0.6159899634827406,
          2.067091457474436,
          3.1770060750215077,
          2.574776438167529,
          2.3439687850419713,
          2.1397123403054668,
          4.139159035278089,
          -0.1677389555387574,
          1.590979754987984,
          3.114345414406638,
          3.0671496957001754,
          0.9587140205393929,
          -0.7205995040570308,
          3.294898516032698,
          0.3185363449125336,
          1.3591512394692034,
          1.5471170700538324,
          -0.6978564018241644,
          1.5284054090327865,
          2.2673810143707196,
          2.8150069000544806,
          3.0312433738154567,
          1.9646196918192365,
          -0.022526918407533625,
          2.510334750179858,
          2.8277194820398357,
          0.6327965503104982,
          1.5296364861609555,
          3.2529105805625473,
          3.131660620317997,
          0.6922736033320991,
          1.8762489097298767,
          2.2198306475715217,
          3.4427869121711985,
          1.4235115773469194,
          0.01860581266886041,
          1.5479741332401407,
          3.007972583886723,
          2.5327394444428046,
          2.908773836862561,
          0.11523336198317069,
          2.949557405570771,
          3.86798840377445,
          1.9361904307444553,
          2.560003302739549,
          2.3646808220879203,
          2.0597272367155197,
          -1.1197945924393893,
          3.0896017179662834,
          3.3635204932663108,
          3.7136909255431947,
          1.5125942017338794,
          0.4166480483433461,
          0.8065950752425115,
          3.118128171899987,
          5.0840310289578845,
          2.7956484944397255,
          4.356370646483375,
          2.1268850201329528,
          2.5728726979868384,
          0.8697261994841716,
          3.5470347639697053,
          -1.0494104816022158,
          2.448631521075148,
          0.9458954478033941,
          2.1408097059546685,
          2.7690124361562924,
          2.011317123812209,
          1.4704383929476914,
          3.385008096696404,
          1.9351735306314906,
          0.33350523842466795,
          3.730014103322637,
          1.5283895601440332,
          3.332537952855988,
          2.1596699553713576,
          1.7278722081734885,
          2.851700982837,
          3.6747020965695967,
          0.49330877958915376,
          4.904747964992078,
          3.9039187873668837,
          1.9817543028560678,
          1.8574572481351734,
          3.204401422337482,
          1.1323296555861275,
          0.4032167001684026,
          2.8232812513855596,
          3.4279532688800645,
          -0.6386807842022,
          2.8718568330089367,
          -0.7917886316035885,
          1.7045016073356059,
          1.439378504771303,
          1.869632580196628,
          1.5896295786936492,
          1.4901100332015198,
          3.254477436828468,
          4.811519313815765,
          -1.1589194692767926,
          1.2802481213142518,
          2.1972772065196566,
          2.3776096685461243,
          1.0492546384056547,
          5.440617757336311,
          2.271920132651445,
          0.8613466308415161,
          3.8014068858491816,
          1.325360441684948,
          2.9319564301891603,
          2.8999854557849813,
          2.4279256472246313,
          2.0063306133812593,
          1.792351354233141,
          1.7419347010519268,
          3.2557859481948848,
          2.407442742108358,
          1.085431998767699,
          3.3589312098127415,
          2.0460222889573982,
          2.4996486217496976,
          0.8243620081422516,
          0.2167359194928995,
          2.7500331949933328,
          0.5912052493564812
         ],
         "z": [
          -1.9142710728312062,
          -0.9805436747553558,
          0.5128509636859717,
          -1.3331101593560344,
          -3.2402576950559,
          -3.2151097067236654,
          -0.9969271644991473,
          -0.5232384877572107,
          -3.367842261790316,
          -1.8991309234685736,
          -1.6366081129480428,
          -2.318820818089353,
          -1.7848231480783205,
          -2.596004380893112,
          -3.746458523475553,
          -2.0100740460837363,
          -2.1664586732543585,
          -0.7503880723387015,
          -2.394768319103141,
          -0.26639052681062014,
          -0.0042772167721911725,
          -2.1585328994074375,
          -2.3887598971174273,
          -2.262420881898721,
          -1.1399227775999745,
          -1.385533310191448,
          -2.7334410063734467,
          -1.9585172584733341,
          -1.8315075333676516,
          -1.5979413362672474,
          -2.520572486134128,
          -1.3927858281830918,
          -2.1910459815094048,
          -0.8827477324804587,
          -2.393438842385561,
          -2.5262031374417804,
          -0.9490143642293993,
          -3.5911309353710745,
          -0.8649672014789633,
          0.12343236635166122,
          -1.716032746120632,
          -0.4712635639654925,
          -1.3534897551117604,
          -2.3649516999745637,
          -1.4724392117609157,
          -3.571114662345617,
          -1.0086055193793726,
          -1.4027218122097453,
          -2.4099753879173,
          -1.9380589585402754,
          -1.0859910385736509,
          -0.46820628124889385,
          -3.7795875117868825,
          -2.0469106271988,
          -0.6985511786249126,
          -2.238444791133695,
          -1.4159048569703745,
          -2.09803514056377,
          -1.7882330484969406,
          -1.0571089692211433,
          -1.9284139869823327,
          -2.0842522139396076,
          -2.5619535683730543,
          -2.657091813892425,
          0.47528903273800127,
          -2.394392416651384,
          -3.344377747511228,
          -2.404856248894034,
          -3.051278188020256,
          -1.8257939843501854,
          -2.4201488767414516,
          -1.0956880613999789,
          -2.9035395826566015,
          -3.175692871556066,
          -2.5234451817218906,
          -2.7619658902340793,
          -1.590633256270007,
          -1.9339122722070257,
          -2.669972521774733,
          -4.3470654849363095,
          -2.4856197873404,
          -3.3197253162257416,
          -2.0496324832586623,
          -3.5260569973349583,
          -1.9631671245746376,
          -3.319622608164913,
          -0.7536742804046808,
          -1.7714930508454434,
          -1.8818787384550593,
          -2.5045663940785974,
          -1.6440128307891098,
          -2.843180674422454,
          -1.7785937014525435,
          -2.9335185979627227,
          -1.49447178199689,
          -0.784249617999762,
          -3.3294585107225005,
          -1.075646326260256,
          -4.6137855960793415,
          -1.8229019116853116,
          -0.6567433725906162,
          -2.428950442681754,
          -3.4357772800460484,
          -0.04218946151580827,
          -2.5562056586252484,
          -2.479547928089691,
          -1.2558426626357968,
          -1.3762961517376882,
          -3.4919799950766706,
          -1.1952423390583047,
          -1.778809733660409,
          -2.55750209495644,
          -4.040276616637627,
          -0.2799727658587363,
          -1.8032922214421048,
          -0.7760121131555595,
          -2.646515380802046,
          -1.837678663758016,
          -2.053042843149188,
          -1.918377947726565,
          -0.4615832203736636,
          -2.137970359021851,
          -2.661627046673238,
          -0.4367530971757283,
          -1.7875617744853964,
          -1.5293718404403407,
          -2.4317225588768157,
          -0.6552686995665233,
          -3.2230897942008423,
          -1.7890679601875905,
          -2.8152834726867475,
          -3.6275906725597027,
          -2.7394164676259027,
          -1.678659084936902,
          -2.6436910960787223,
          -2.496177035894398,
          -2.3431092391905013,
          -2.1707238812217384,
          -2.0226878372303467,
          -2.8620695037280672,
          -2.423926242370962,
          -0.6407805667449831,
          -3.4554935938253886,
          -3.743175195919256,
          -2.9763759558197656,
          -0.6691984108515923,
          -0.9165106079219099,
          -2.42915417028939,
          -0.3752222001723926
         ]
        },
        {
         "marker": {
          "color": "blue",
          "opacity": 0.8,
          "size": 4
         },
         "mode": "markers",
         "name": "2",
         "type": "scatter3d",
         "x": [
          -2.5290104016973682,
          -0.9364583526734311,
          -1.2672599620466927,
          -2.8902036824673263,
          -3.1109112848269485,
          -1.7358658988270517,
          -2.1995312957190376,
          -1.5447207419824287,
          -3.998511323739674,
          -2.5717347062184714,
          -1.0075282686888425,
          -1.0706711583914432,
          -4.174192848694483,
          -2.7474744715853494,
          -2.4583093210244766,
          -5.157827292356737,
          -1.9829613683304919,
          0.7046556269116695,
          -2.0726882633252055,
          0.20307803883860842,
          -0.371079320863114,
          -3.0108044498679245,
          -3.4340191078393882,
          -2.7944245156559604,
          -0.7141967329445553,
          -2.9782362501048425,
          -2.312487244136863,
          -1.5946996297909428,
          -1.3643993263418204,
          -2.034827094749,
          3.4376824208001686,
          0.3802907593101539,
          -1.5781081869688371,
          -1.3076587171584118,
          -0.97579868568479,
          -1.153496426181334,
          0.5853522830707734,
          -0.5926817128130684,
          -2.4037874555624152,
          -2.0226771975368805,
          -4.420905819418985,
          0.24321142782524152,
          -2.0783320262684306,
          -2.0157822443296003,
          -1.7038862469898903,
          -1.6677249607344171,
          -1.585399512121446,
          -2.7875182422650364,
          -1.6429391273454348,
          -1.445963868652183,
          -0.4108002079679427,
          -1.9226798233180993,
          0.5204106507131443,
          -2.037159946671744,
          -3.995453656042649,
          -3.2869957814880535,
          -2.863934392582309,
          -1.0485964782227533,
          0.2727692589679265,
          -1.6078958842702498,
          -0.07080967690296713,
          -1.4417353996813111,
          -1.1854886905210296,
          -2.5133388263653433,
          -3.5518976132642637,
          -2.9036061784275238,
          -3.3215943215670087,
          -1.6146292121232446,
          -1.6373064381221463,
          -1.2566973404280377,
          -2.5623653011365626,
          -1.4379841770409496,
          -1.5381170863060103,
          -1.039724152237878,
          -2.751745191181941,
          -0.6370266686607284,
          -5.204013205020994,
          -1.5659239109583225,
          -2.177570665688617,
          -3.1755561913753434,
          -2.153553244927938,
          -0.9332684373116611,
          -2.134681220905963,
          -3.3152923305174307,
          -3.5251960438169485,
          1.3326782492963196,
          -0.7125756993803589,
          -2.272467965305691,
          -2.6670370064761784,
          -2.6944783093414006,
          -3.526223476542983,
          -4.48111511912685,
          -3.3790740599142874,
          -1.1079421028958132,
          -5.328426246283742,
          -3.0670947119123135,
          -1.8297973938157626,
          -0.7603619490678657,
          -2.322000951476518,
          -2.698698053275725,
          0.9457561762896818,
          -1.5122947537883091,
          -0.23510071497907337,
          -5.164955312121136,
          -2.094012643092716,
          -1.6301928523888924,
          -1.8083008202067503,
          -1.158204728440599,
          -4.919428221621164,
          -0.16515413541092916,
          -0.7195203556273817,
          -1.0926258364831605,
          -1.0170877904664535,
          -1.5074685125557186,
          -1.6430022520338365,
          -0.7529406250560597,
          -1.1879883253771621,
          -2.6143535937252205,
          -2.6200747618293665,
          -1.8763445613554857,
          -1.9555157809339265,
          -3.9780028114335533,
          -3.1906175761018867,
          -3.537241467284053,
          -2.278280142105685,
          -2.76518374009228,
          -0.5214570905350231,
          -2.719807962943067,
          -2.055090598942545,
          -2.7429491289871084,
          -0.42939595195847824,
          -1.0094230867719935,
          -3.2770486755168498,
          -2.4279683848231084,
          -2.68803009077498,
          -2.7804806454911706,
          -1.129472787101406,
          -1.2014750338988285,
          -2.133966504533324,
          -5.188953993987258,
          0.11338732299326226,
          -6.500825498727621,
          -1.91826500196215,
          -3.237830308082107,
          -3.083942928719793,
          -2.787870839395575,
          -1.1384907903302142,
          -0.609069909451166,
          -2.4066248466781466,
          -3.140459755554317
         ],
         "y": [
          1.9630046843906224,
          1.1204335813654371,
          2.2722899417561746,
          2.102456507941258,
          2.0569555390010454,
          2.5318364213470326,
          2.1816292835311617,
          2.4867513853163867,
          1.3746179700805699,
          1.1333233672629437,
          0.8204437290246716,
          2.8742897837779258,
          2.7870112850856366,
          2.95354279902341,
          1.1662434892398372,
          1.8035204505738673,
          2.030974819028471,
          1.954155548066378,
          2.7585652025309138,
          0.6944833111637174,
          1.7994943479788763,
          1.7288916856818888,
          2.515666738635674,
          1.5656986375365562,
          1.5490836453739365,
          2.6768013925713703,
          2.488770080448026,
          1.0710410349516415,
          2.463012354237925,
          3.154093355820285,
          0.35617798096881925,
          2.3140875488946167,
          2.6269915474695944,
          2.7289687856052542,
          2.1367389759678894,
          1.17589536633669,
          2.6289808768984737,
          1.0788629335250648,
          1.7919060674970135,
          2.226124628230753,
          2.8326059264281986,
          1.8974316623142342,
          1.7454976496828454,
          2.0403694576359235,
          2.7855851711247843,
          2.841231533042227,
          3.1913097918793887,
          1.093776395172337,
          1.6072195467547208,
          1.7718935295681009,
          2.694820869544752,
          3.2487029932397524,
          1.2662950283467844,
          1.700767630967018,
          1.8148135154734895,
          2.716470956387751,
          2.4855463568439875,
          2.135027416328654,
          1.494459730252914,
          2.3050159180839307,
          1.7196255960370361,
          1.8576690705685603,
          2.472169026898799,
          2.006065534269862,
          2.527972967444691,
          1.7132092068684188,
          1.7180886629463206,
          2.5490628675387956,
          2.9453048813040064,
          1.7623559085479823,
          1.4849176940050015,
          2.830088749897633,
          2.1013430900046033,
          2.3009416040579307,
          2.9002311341886093,
          0.6488725235545694,
          1.9837591952020823,
          2.864765364285538,
          1.490541361660229,
          1.543040993734558,
          2.1913370965050056,
          2.3715684211207524,
          2.2621149405154033,
          2.073865191368346,
          3.3653224120269445,
          1.773259503132217,
          1.3462078038136474,
          2.681919487827957,
          2.098668738256731,
          2.8665429582848128,
          3.0453605423097136,
          1.841083888006109,
          1.9651156465715527,
          2.9639075852036125,
          2.4308265607507287,
          1.218192042170838,
          2.0972866024839583,
          1.2903597076231292,
          1.7201447714879285,
          0.988727628229044,
          2.2728588754668757,
          2.988062464696893,
          2.339698427694022,
          2.6273112010261266,
          1.245317267053804,
          2.1399903190372944,
          2.0733139262891807,
          1.0230177463481207,
          2.807516869886731,
          1.8438596783849523,
          1.987061624606431,
          2.7650947558175187,
          1.6429177965730015,
          1.9509048993753584,
          2.3779303927688855,
          2.6696398034893307,
          1.761178240595914,
          2.3612371056241988,
          1.72578311355409,
          1.3002650345165063,
          2.0696492276340055,
          2.0740238448609536,
          1.713949337147537,
          2.4873450769690746,
          2.226603388783787,
          2.615842532028419,
          0.40161281706002105,
          1.6715365836951102,
          2.1416043246257312,
          3.1548913193957087,
          1.7563610229513062,
          2.369765387975125,
          2.5292964585855993,
          0.9880161342333638,
          2.462038695164779,
          1.5400513341874174,
          1.2039880803718521,
          2.619652836194524,
          1.8289727337691057,
          3.080257359901008,
          1.9038398470148385,
          3.0708180822461344,
          1.545569072769971,
          1.6925581067665523,
          1.6967500828148965,
          1.8692842322642778,
          1.847082139715728,
          1.855165196569044,
          0.3700407047491825,
          2.1340594997228393
         ],
         "z": [
          2.489090308556526,
          1.3531341792048006,
          0.7398976104619557,
          2.4312644945533632,
          2.7817935884156464,
          2.8977114375652953,
          1.0698414065810464,
          2.5877480451301462,
          2.960495392726454,
          2.0230530988751187,
          1.4601277354567543,
          1.8909341805554776,
          3.818668711504685,
          3.027432942885387,
          1.6417911526099722,
          4.209656303509059,
          1.925733756349801,
          -0.14966082353061427,
          3.4352918973493485,
          0.3312534999253962,
          0.09302977278612778,
          3.741057389374366,
          3.243979656087787,
          2.976415654693059,
          0.5158812947606712,
          2.9354317367138076,
          2.3996505871254437,
          0.9084772193820021,
          1.878211897545702,
          1.27732061835728,
          -3.888348399131343,
          -1.245056787103668,
          2.7184354491638043,
          1.7280747709557553,
          2.6965648166412155,
          0.7772514056783522,
          -0.5259977928551685,
          1.1759829699583455,
          1.8361454607670713,
          3.1761587918823135,
          3.87776643853306,
          0.25992811336928767,
          3.028354443009923,
          0.9310483486662602,
          1.2725940479390492,
          1.5304488066625095,
          3.2979587663574375,
          2.540288775421649,
          1.1845582187674013,
          0.5293477143147594,
          -0.25166319155799455,
          2.830887357913054,
          -0.48435154106791023,
          2.2611589764365134,
          4.195839227437028,
          3.766592491701622,
          2.4748111889322235,
          2.3031040127007927,
          0.6294044469918647,
          3.408133755515134,
          -0.5276091374817553,
          0.8723681210971361,
          2.10541138880921,
          2.1084475466815342,
          3.9803107812505445,
          2.796339071314101,
          2.171300252606296,
          3.1781922778182867,
          2.421938042313359,
          1.025641934910002,
          0.19484608885168364,
          1.1799516609665175,
          0.8493815552169293,
          1.6731098713371009,
          2.3087981139522893,
          0.8179406002183098,
          4.4093850913846095,
          2.4490230471717416,
          2.0199924334550134,
          2.983073985923742,
          1.3333793371591094,
          0.4185769228534857,
          3.2873193543249855,
          2.872156681217944,
          3.940429144061233,
          -1.5748430522326662,
          -0.5088023295832174,
          3.0363457268773653,
          2.0226078767293982,
          4.418602371067975,
          4.394111736307586,
          4.73507875179927,
          2.5032231926658737,
          0.5545756395475938,
          5.232635949369627,
          1.611361002897308,
          2.1964633776092994,
          1.6288039864737183,
          2.3227600520639897,
          2.279427667841078,
          -0.7949424349057037,
          1.2236536374747753,
          -0.07371534593819185,
          4.440410316687636,
          2.4239332530923963,
          2.0347460981482186,
          1.048976669816866,
          1.4493872286728693,
          4.385685747457449,
          0.0728486504110959,
          0.8149999764378353,
          1.0055239321092768,
          1.5813203918246215,
          1.7377595485049122,
          1.8633394819397477,
          -0.6910164320601186,
          0.1605070449883763,
          3.4617015947279164,
          3.8397812063605055,
          2.1339014164338908,
          1.9066587268394701,
          4.145292267048447,
          3.60932745907781,
          3.2401325063727606,
          2.640410966857628,
          1.9374632634258764,
          -0.5335804081360993,
          3.3234962623796926,
          1.8501557915808289,
          2.6769745681644794,
          1.2894191151135055,
          0.6611106851197941,
          3.376067651701213,
          2.525758749203664,
          2.0690113526197846,
          2.998582097768697,
          0.3924044831486151,
          1.528488186934339,
          2.395940430631828,
          6.191550566301906,
          0.06570876316498353,
          6.153764902883969,
          3.4182376242524306,
          2.5394358213825656,
          1.138421456071118,
          2.308937418257,
          1.7162968741773106,
          1.0436267105908137,
          0.5880752904277124,
          3.46745837367521
         ]
        }
       ],
       "layout": {
        "scene": {
         "xaxis": {
          "title": {
           "text": "Feature 1"
          }
         },
         "yaxis": {
          "title": {
           "text": "Feature 2"
          }
         },
         "zaxis": {
          "title": {
           "text": "Feature 3"
          }
         }
        },
        "template": {
         "data": {
          "bar": [
           {
            "error_x": {
             "color": "#2a3f5f"
            },
            "error_y": {
             "color": "#2a3f5f"
            },
            "marker": {
             "line": {
              "color": "#E5ECF6",
              "width": 0.5
             },
             "pattern": {
              "fillmode": "overlay",
              "size": 10,
              "solidity": 0.2
             }
            },
            "type": "bar"
           }
          ],
          "barpolar": [
           {
            "marker": {
             "line": {
              "color": "#E5ECF6",
              "width": 0.5
             },
             "pattern": {
              "fillmode": "overlay",
              "size": 10,
              "solidity": 0.2
             }
            },
            "type": "barpolar"
           }
          ],
          "carpet": [
           {
            "aaxis": {
             "endlinecolor": "#2a3f5f",
             "gridcolor": "white",
             "linecolor": "white",
             "minorgridcolor": "white",
             "startlinecolor": "#2a3f5f"
            },
            "baxis": {
             "endlinecolor": "#2a3f5f",
             "gridcolor": "white",
             "linecolor": "white",
             "minorgridcolor": "white",
             "startlinecolor": "#2a3f5f"
            },
            "type": "carpet"
           }
          ],
          "choropleth": [
           {
            "colorbar": {
             "outlinewidth": 0,
             "ticks": ""
            },
            "type": "choropleth"
           }
          ],
          "contour": [
           {
            "colorbar": {
             "outlinewidth": 0,
             "ticks": ""
            },
            "colorscale": [
             [
              0,
              "#0d0887"
             ],
             [
              0.1111111111111111,
              "#46039f"
             ],
             [
              0.2222222222222222,
              "#7201a8"
             ],
             [
              0.3333333333333333,
              "#9c179e"
             ],
             [
              0.4444444444444444,
              "#bd3786"
             ],
             [
              0.5555555555555556,
              "#d8576b"
             ],
             [
              0.6666666666666666,
              "#ed7953"
             ],
             [
              0.7777777777777778,
              "#fb9f3a"
             ],
             [
              0.8888888888888888,
              "#fdca26"
             ],
             [
              1,
              "#f0f921"
             ]
            ],
            "type": "contour"
           }
          ],
          "contourcarpet": [
           {
            "colorbar": {
             "outlinewidth": 0,
             "ticks": ""
            },
            "type": "contourcarpet"
           }
          ],
          "heatmap": [
           {
            "colorbar": {
             "outlinewidth": 0,
             "ticks": ""
            },
            "colorscale": [
             [
              0,
              "#0d0887"
             ],
             [
              0.1111111111111111,
              "#46039f"
             ],
             [
              0.2222222222222222,
              "#7201a8"
             ],
             [
              0.3333333333333333,
              "#9c179e"
             ],
             [
              0.4444444444444444,
              "#bd3786"
             ],
             [
              0.5555555555555556,
              "#d8576b"
             ],
             [
              0.6666666666666666,
              "#ed7953"
             ],
             [
              0.7777777777777778,
              "#fb9f3a"
             ],
             [
              0.8888888888888888,
              "#fdca26"
             ],
             [
              1,
              "#f0f921"
             ]
            ],
            "type": "heatmap"
           }
          ],
          "heatmapgl": [
           {
            "colorbar": {
             "outlinewidth": 0,
             "ticks": ""
            },
            "colorscale": [
             [
              0,
              "#0d0887"
             ],
             [
              0.1111111111111111,
              "#46039f"
             ],
             [
              0.2222222222222222,
              "#7201a8"
             ],
             [
              0.3333333333333333,
              "#9c179e"
             ],
             [
              0.4444444444444444,
              "#bd3786"
             ],
             [
              0.5555555555555556,
              "#d8576b"
             ],
             [
              0.6666666666666666,
              "#ed7953"
             ],
             [
              0.7777777777777778,
              "#fb9f3a"
             ],
             [
              0.8888888888888888,
              "#fdca26"
             ],
             [
              1,
              "#f0f921"
             ]
            ],
            "type": "heatmapgl"
           }
          ],
          "histogram": [
           {
            "marker": {
             "pattern": {
              "fillmode": "overlay",
              "size": 10,
              "solidity": 0.2
             }
            },
            "type": "histogram"
           }
          ],
          "histogram2d": [
           {
            "colorbar": {
             "outlinewidth": 0,
             "ticks": ""
            },
            "colorscale": [
             [
              0,
              "#0d0887"
             ],
             [
              0.1111111111111111,
              "#46039f"
             ],
             [
              0.2222222222222222,
              "#7201a8"
             ],
             [
              0.3333333333333333,
              "#9c179e"
             ],
             [
              0.4444444444444444,
              "#bd3786"
             ],
             [
              0.5555555555555556,
              "#d8576b"
             ],
             [
              0.6666666666666666,
              "#ed7953"
             ],
             [
              0.7777777777777778,
              "#fb9f3a"
             ],
             [
              0.8888888888888888,
              "#fdca26"
             ],
             [
              1,
              "#f0f921"
             ]
            ],
            "type": "histogram2d"
           }
          ],
          "histogram2dcontour": [
           {
            "colorbar": {
             "outlinewidth": 0,
             "ticks": ""
            },
            "colorscale": [
             [
              0,
              "#0d0887"
             ],
             [
              0.1111111111111111,
              "#46039f"
             ],
             [
              0.2222222222222222,
              "#7201a8"
             ],
             [
              0.3333333333333333,
              "#9c179e"
             ],
             [
              0.4444444444444444,
              "#bd3786"
             ],
             [
              0.5555555555555556,
              "#d8576b"
             ],
             [
              0.6666666666666666,
              "#ed7953"
             ],
             [
              0.7777777777777778,
              "#fb9f3a"
             ],
             [
              0.8888888888888888,
              "#fdca26"
             ],
             [
              1,
              "#f0f921"
             ]
            ],
            "type": "histogram2dcontour"
           }
          ],
          "mesh3d": [
           {
            "colorbar": {
             "outlinewidth": 0,
             "ticks": ""
            },
            "type": "mesh3d"
           }
          ],
          "parcoords": [
           {
            "line": {
             "colorbar": {
              "outlinewidth": 0,
              "ticks": ""
             }
            },
            "type": "parcoords"
           }
          ],
          "pie": [
           {
            "automargin": true,
            "type": "pie"
           }
          ],
          "scatter": [
           {
            "fillpattern": {
             "fillmode": "overlay",
             "size": 10,
             "solidity": 0.2
            },
            "type": "scatter"
           }
          ],
          "scatter3d": [
           {
            "line": {
             "colorbar": {
              "outlinewidth": 0,
              "ticks": ""
             }
            },
            "marker": {
             "colorbar": {
              "outlinewidth": 0,
              "ticks": ""
             }
            },
            "type": "scatter3d"
           }
          ],
          "scattercarpet": [
           {
            "marker": {
             "colorbar": {
              "outlinewidth": 0,
              "ticks": ""
             }
            },
            "type": "scattercarpet"
           }
          ],
          "scattergeo": [
           {
            "marker": {
             "colorbar": {
              "outlinewidth": 0,
              "ticks": ""
             }
            },
            "type": "scattergeo"
           }
          ],
          "scattergl": [
           {
            "marker": {
             "colorbar": {
              "outlinewidth": 0,
              "ticks": ""
             }
            },
            "type": "scattergl"
           }
          ],
          "scattermapbox": [
           {
            "marker": {
             "colorbar": {
              "outlinewidth": 0,
              "ticks": ""
             }
            },
            "type": "scattermapbox"
           }
          ],
          "scatterpolar": [
           {
            "marker": {
             "colorbar": {
              "outlinewidth": 0,
              "ticks": ""
             }
            },
            "type": "scatterpolar"
           }
          ],
          "scatterpolargl": [
           {
            "marker": {
             "colorbar": {
              "outlinewidth": 0,
              "ticks": ""
             }
            },
            "type": "scatterpolargl"
           }
          ],
          "scatterternary": [
           {
            "marker": {
             "colorbar": {
              "outlinewidth": 0,
              "ticks": ""
             }
            },
            "type": "scatterternary"
           }
          ],
          "surface": [
           {
            "colorbar": {
             "outlinewidth": 0,
             "ticks": ""
            },
            "colorscale": [
             [
              0,
              "#0d0887"
             ],
             [
              0.1111111111111111,
              "#46039f"
             ],
             [
              0.2222222222222222,
              "#7201a8"
             ],
             [
              0.3333333333333333,
              "#9c179e"
             ],
             [
              0.4444444444444444,
              "#bd3786"
             ],
             [
              0.5555555555555556,
              "#d8576b"
             ],
             [
              0.6666666666666666,
              "#ed7953"
             ],
             [
              0.7777777777777778,
              "#fb9f3a"
             ],
             [
              0.8888888888888888,
              "#fdca26"
             ],
             [
              1,
              "#f0f921"
             ]
            ],
            "type": "surface"
           }
          ],
          "table": [
           {
            "cells": {
             "fill": {
              "color": "#EBF0F8"
             },
             "line": {
              "color": "white"
             }
            },
            "header": {
             "fill": {
              "color": "#C8D4E3"
             },
             "line": {
              "color": "white"
             }
            },
            "type": "table"
           }
          ]
         },
         "layout": {
          "annotationdefaults": {
           "arrowcolor": "#2a3f5f",
           "arrowhead": 0,
           "arrowwidth": 1
          },
          "autotypenumbers": "strict",
          "coloraxis": {
           "colorbar": {
            "outlinewidth": 0,
            "ticks": ""
           }
          },
          "colorscale": {
           "diverging": [
            [
             0,
             "#8e0152"
            ],
            [
             0.1,
             "#c51b7d"
            ],
            [
             0.2,
             "#de77ae"
            ],
            [
             0.3,
             "#f1b6da"
            ],
            [
             0.4,
             "#fde0ef"
            ],
            [
             0.5,
             "#f7f7f7"
            ],
            [
             0.6,
             "#e6f5d0"
            ],
            [
             0.7,
             "#b8e186"
            ],
            [
             0.8,
             "#7fbc41"
            ],
            [
             0.9,
             "#4d9221"
            ],
            [
             1,
             "#276419"
            ]
           ],
           "sequential": [
            [
             0,
             "#0d0887"
            ],
            [
             0.1111111111111111,
             "#46039f"
            ],
            [
             0.2222222222222222,
             "#7201a8"
            ],
            [
             0.3333333333333333,
             "#9c179e"
            ],
            [
             0.4444444444444444,
             "#bd3786"
            ],
            [
             0.5555555555555556,
             "#d8576b"
            ],
            [
             0.6666666666666666,
             "#ed7953"
            ],
            [
             0.7777777777777778,
             "#fb9f3a"
            ],
            [
             0.8888888888888888,
             "#fdca26"
            ],
            [
             1,
             "#f0f921"
            ]
           ],
           "sequentialminus": [
            [
             0,
             "#0d0887"
            ],
            [
             0.1111111111111111,
             "#46039f"
            ],
            [
             0.2222222222222222,
             "#7201a8"
            ],
            [
             0.3333333333333333,
             "#9c179e"
            ],
            [
             0.4444444444444444,
             "#bd3786"
            ],
            [
             0.5555555555555556,
             "#d8576b"
            ],
            [
             0.6666666666666666,
             "#ed7953"
            ],
            [
             0.7777777777777778,
             "#fb9f3a"
            ],
            [
             0.8888888888888888,
             "#fdca26"
            ],
            [
             1,
             "#f0f921"
            ]
           ]
          },
          "colorway": [
           "#636efa",
           "#EF553B",
           "#00cc96",
           "#ab63fa",
           "#FFA15A",
           "#19d3f3",
           "#FF6692",
           "#B6E880",
           "#FF97FF",
           "#FECB52"
          ],
          "font": {
           "color": "#2a3f5f"
          },
          "geo": {
           "bgcolor": "white",
           "lakecolor": "white",
           "landcolor": "#E5ECF6",
           "showlakes": true,
           "showland": true,
           "subunitcolor": "white"
          },
          "hoverlabel": {
           "align": "left"
          },
          "hovermode": "closest",
          "mapbox": {
           "style": "light"
          },
          "paper_bgcolor": "white",
          "plot_bgcolor": "#E5ECF6",
          "polar": {
           "angularaxis": {
            "gridcolor": "white",
            "linecolor": "white",
            "ticks": ""
           },
           "bgcolor": "#E5ECF6",
           "radialaxis": {
            "gridcolor": "white",
            "linecolor": "white",
            "ticks": ""
           }
          },
          "scene": {
           "xaxis": {
            "backgroundcolor": "#E5ECF6",
            "gridcolor": "white",
            "gridwidth": 2,
            "linecolor": "white",
            "showbackground": true,
            "ticks": "",
            "zerolinecolor": "white"
           },
           "yaxis": {
            "backgroundcolor": "#E5ECF6",
            "gridcolor": "white",
            "gridwidth": 2,
            "linecolor": "white",
            "showbackground": true,
            "ticks": "",
            "zerolinecolor": "white"
           },
           "zaxis": {
            "backgroundcolor": "#E5ECF6",
            "gridcolor": "white",
            "gridwidth": 2,
            "linecolor": "white",
            "showbackground": true,
            "ticks": "",
            "zerolinecolor": "white"
           }
          },
          "shapedefaults": {
           "line": {
            "color": "#2a3f5f"
           }
          },
          "ternary": {
           "aaxis": {
            "gridcolor": "white",
            "linecolor": "white",
            "ticks": ""
           },
           "baxis": {
            "gridcolor": "white",
            "linecolor": "white",
            "ticks": ""
           },
           "bgcolor": "#E5ECF6",
           "caxis": {
            "gridcolor": "white",
            "linecolor": "white",
            "ticks": ""
           }
          },
          "title": {
           "x": 0.05
          },
          "xaxis": {
           "automargin": true,
           "gridcolor": "white",
           "linecolor": "white",
           "ticks": "",
           "title": {
            "standoff": 15
           },
           "zerolinecolor": "white",
           "zerolinewidth": 2
          },
          "yaxis": {
           "automargin": true,
           "gridcolor": "white",
           "linecolor": "white",
           "ticks": "",
           "title": {
            "standoff": 15
           },
           "zerolinecolor": "white",
           "zerolinewidth": 2
          }
         }
        },
        "title": {
         "text": "3D Scatter plot of the dataset"
        }
       }
      },
      "text/html": [
       "<div>                            <div id=\"778f21fb-a508-4f40-ba62-bd1de112a482\" class=\"plotly-graph-div\" style=\"height:525px; width:100%;\"></div>            <script type=\"text/javascript\">                require([\"plotly\"], function(Plotly) {                    window.PLOTLYENV=window.PLOTLYENV || {};                                    if (document.getElementById(\"778f21fb-a508-4f40-ba62-bd1de112a482\")) {                    Plotly.newPlot(                        \"778f21fb-a508-4f40-ba62-bd1de112a482\",                        [{\"marker\":{\"color\":\"red\",\"opacity\":0.8,\"size\":4},\"mode\":\"markers\",\"name\":\"0\",\"x\":[-2.872017936962414,-0.1512017932201506,-2.8001877431767666,-2.008249225359646,-2.721788396526077,-2.329371632872244,0.162253493570649,-3.8396926232957087,-0.9217605673078828,-0.9461004254061289,-2.500903985818903,-1.3463564803971306,-2.017610690432701,-2.5495132674122987,-2.758974175758737,-3.68532983810976,-2.435905686366275,-1.0262413389646996,-1.8775691906120053,-2.378544092656536,-2.5401088707377064,-4.504323905522044,-1.0016801759408465,-2.406985393804852,-3.3636300793787015,-4.763130008719419,-3.226489947259625,-3.3151474985216263,-3.4078888496051127,-1.765792540327365,-3.12794457244262,-1.1966353973575,-3.9834293080988514,-3.5178643321406,-2.3038015363736593,-2.219214354955773,-1.581911175398173,-2.2341188598108275,-4.220646759638658,-1.8273681931558674,-1.0601834408934434,-2.605859161267705,-2.834855429529238,-0.08685856569936856,-0.6609179263294109,-1.5654528443892937,-0.911425665872089,-1.9109198968690948,-2.544808849253627,-1.3385332209601741,-1.5615638500512312,-3.8767842847127456,0.3784578774791245,-2.912540902221983,-1.4257340432926826,-2.7253171333160155,-1.8086390173992526,-3.528434510727873,-1.1822015466607083,0.20727089051713943,-1.2957935630106814,-1.228822154431073,-2.7639328117986786,-1.0184717814734265,-1.1311408748888545,-3.2127345437907353,-2.177196116175464,-2.625581754765429,-0.4687509263712777,-2.9123698422010094,-3.8566604757321565,-1.9643426670435975,-1.9792157668975354,-1.6892724224100697,-2.8821286950653886,-2.1395534638142872,-3.457005121413606,-4.416569483420576,0.22369259715000345,-2.7937554594525107,-3.4594599749533277,-2.4628404284394065,-0.6741285079730635,-1.499694826863586,-1.231485415513927,-2.6223780078220216,-1.4254593168623342,-0.2838545940140482,-3.9932593493921775,-2.310199663694758,-1.9926711134047619,-1.524721877947398,-1.6429460028606306,-1.097034559350978,-3.207386686866954,-0.25259315291278917,-1.254046810883489,-1.203924520882301,-0.0890147440465725,-1.2458209408471526,-3.1572806331864243,-0.5766349212770803,-1.0008640929740937,-3.399010871217409,-3.280080719580232,0.08942542189310876,-0.46467644508407235,-1.785136184850252,-1.2303113978296227,-2.2488564556475454,-1.8673560176729356,-1.8919398018121096,-2.089197514547425,0.04954389181237673,-2.288945009973561,-2.43585245523231,-1.9296271919781487,-1.5087094313005383,-1.8181006646731535,-2.5917836154502716,-2.1335659553429487,-0.7015960378478603,-3.6794985468468138,-2.8051079822715583,-1.5148842797106161,-1.9743264884390148,-2.150124409006892,-4.072260418505967,-1.918553020197228,-2.8350068144877323,-1.114321734485559,-1.810301456926174,-1.6389848458914054,-2.0930999141372815,-1.1690756215139777,-1.8840624158509125,-1.2901857836962618,-0.2783950283034482,-2.0330669407324633,-1.4895421671841573,-2.5042907185319008,-1.9609089993398483,-2.0378234170329845,-1.943475609563584,-0.4414779666033173,-1.6066638541042315,-0.7575237896195703,-1.284106483836994,3.480238357217787,-2.64148940929544,-0.7708947673491151,-1.6538312308791396,-2.691185128792327,-0.8411381136035012,-0.8425348686863094,-0.37428459134660685,-1.6191310211549157,-2.002365748420083,-2.602229806872442,-2.2966116065961426,-0.6893372005679947,-1.1332488462474373,-2.2760292357887986,-3.671810223989454,-0.00018854450161720493,-3.2499630034607234,-1.697919181702595,-3.169181242236008,-2.050098933015941,-1.1208603208542534,-2.1500523625363854,-2.6698343572826517,-1.031323793623133,-1.8251175040130356,-1.247306128981844,-3.4257150757050336,-2.7371711365890867,-1.6375371699167127,-2.9486002354476906,-2.2759565541502234,-2.7013429112037035,-1.0944739739611098,-3.2400671638410614,-1.1955590517983405,-3.411550492754156,-1.6080774389399053,-1.044659923061015,-2.537177949088728,-3.251876502945737,-0.277697075894658,-2.8623829951657105,-2.141362822654126,-1.089591193067223,-3.0656812152136643,-0.9976626263015647,-3.1337023225712635,-2.281084021288062,-2.346282752431799,-2.6297403379019926,0.06548826795421725,-2.6478163808691697],\"y\":[-2.7098728304258928,-1.1093728303113806,-1.3712702738262976,-2.6548014708671985,-2.44002901226971,-1.6476995378046921,-1.8778724525800452,-3.6280959493394813,-4.028629200280816,-2.2591714631062514,-0.327652211527377,0.29175496641285514,-3.5288670135880653,-2.4848682861907614,-3.7343355566841856,-1.9482192755694776,-0.8226749957059436,-3.7862535730683495,-2.8279801546595005,-2.7484341031695156,-2.7027449565961894,-1.829012834076982,-2.794913864406083,-2.9583278484603284,-2.2791625581122235,-3.767075054877501,-1.8531468860560745,-2.817536601615654,-4.092353123880106,-2.5380870849431303,-1.046446993780394,-2.160290962079136,-2.0962435852471915,-1.493669269330679,-5.175117883186453,-1.3027901861317583,-0.8543325254694443,-1.543868892959552,-2.758449449855606,-2.5691153897391024,-0.7744581567808417,-2.3189345070736196,-1.6626131007716116,-1.9593314488467366,-1.7598167502866198,-0.7022789660339843,-2.419310658849374,-1.9970634673734622,-0.795300224780408,-1.3115296302560298,-2.6133454157442833,-4.352846427132302,-1.6706043676328386,-2.4125034922861293,-2.122648171729051,-3.960921493927966,-2.129783613092703,-2.829588851171415,-2.7330594248151256,-0.476890093261674,-3.48001329661529,-1.3366677723638918,-0.5540025593038758,-0.17993271104018116,0.5080633874981069,-3.843200612305061,-0.77541729701107,-2.4010001083810706,-1.515981717562516,-2.4395644770764906,-2.955913256383585,-2.310960515430804,-0.8510990442531938,-2.0932194986289328,-2.0074300440835775,-3.4742974390368015,-4.333674462827134,-5.11104699139158,-1.6276949137804757,-2.806705743897508,-1.3773894833229563,-1.6704377133630877,-3.189180037411662,-1.566186612561337,-1.2403873196473723,-2.735338811567332,-2.38737372556152,-1.4309580526036974,-3.3667826989881893,0.5755258961900314,-1.921823667169257,-1.4726661676151367,-1.770691208803924,-2.617317703682498,-1.1014138201928991,0.5086003969804072,-1.786935477235258,-0.7264152501753691,0.20687988299071636,-2.4855612462359886,-2.3624940498437845,-0.6876179841234697,-3.72992365102665,-2.345520446244626,-1.187539845852155,-1.1730285750997718,-1.5910484792869408,-0.7224981957714902,-2.4772723386245876,-3.6115626122250295,-2.4017690387076946,-1.48130764210029,-1.9974896790577206,-0.21722719490270048,-0.8943491854665913,-1.2427979316807858,-2.768036944622952,-2.0456355993607005,-1.5167189726946522,-3.52321639907717,-0.5302363128248968,-1.4822593660563788,-3.97015208584752,-2.9616182886629225,-2.4671989169758457,-1.5653966161842794,-2.526287637752985,-2.3892447018333254,-3.002705550648526,-1.4611294131046373,-2.521868507015925,-3.253840112491408,-1.381178357649317,-1.6161512156017743,-2.1880235718053376,-2.233754183217477,-3.071534013394655,-0.4293512457011581,-1.2520282691312759,-0.8249725883626828,-2.37655583851342,-1.241432886999379,-2.4827999762402313,-2.0197048001281535,-3.4916604604940096,-2.3848887623278285,-0.15489892859789656,-0.27471854354221725,0.4734699269776319,-1.7789519718998568,-0.8874520909122743,-3.5148965633038953,-2.502469589525362,-2.2909595705490355,-0.05307341186683878,-2.4341624211717305,-1.9418511244329382,-1.745936457810592,-2.18545740796239,-1.604824863271711,-1.7305161104963123,-1.6974654254661745,-2.9230142088043793,-3.5010355864821197,-1.0302985108275622,-1.6332490499018897,-1.0614982246287015,-4.394318413697005,-0.6915039588013334,-2.142689973958392,-1.8206874799096473,-3.3673698666267207,-1.3538551693404015,-1.7294494592886434,-0.2075353267536626,-2.2001716222697585,-3.943148652466151,-0.91163560784733,-3.2751014332651893,-2.1205395794176196,-3.4239117360784475,-2.800041369222306,-3.7660285268941203,-0.9764559799453445,-1.120226232988981,-2.385270572110379,0.23202371543484768,-2.505985545839615,-1.3612281877849073,-1.388477376421481,-3.1596722515485753,-1.7764783611516473,-2.069165759007767,-3.318052529425586,-0.5341011052460094,-2.5638868056413564,-2.0152761541280344,-1.3276157112506397,-0.7439974704883154,-2.369703921672876,-2.977567128219408],\"z\":[1.225422217689467,2.224796645666669,3.160149120452428,0.9701804958632922,2.158870720149035,2.3673224685214653,1.7037653518479274,1.448310881289805,0.18454875481270427,1.4184076491807682,3.9240830037050536,5.426991015704091,0.8183661485597313,2.3069941304423778,0.1311686994709269,3.019887641812452,3.115341300545884,-0.2674301029465904,0.6286705855275345,1.8467613221731205,2.2312915680979444,3.1166081626799,0.6638000557532788,1.4830851578307902,2.2357807670603465,0.5274884177969645,2.328356211511711,1.6207068121985673,0.012619806809156087,1.8976376154395027,3.59276030164716,1.7016184282872084,2.6179547875828004,3.309501087961211,-2.124574434100765,3.34112718972489,3.0769189788376785,1.6119108144525987,1.900286158084784,2.280137231778387,2.3743855788463812,1.6514608637672095,1.2063657016730271,0.9963900306093061,1.7113801632070087,2.445969264237215,1.5343882507289783,1.903592216592592,3.5552774883423712,2.206316261252324,0.9251237801989929,0.2530097671972491,1.6483295248103778,2.090921502619408,1.5075465315412375,0.21816060011770433,1.7498473276525761,0.9994170011119163,1.5676792724784698,2.886070409468743,0.5145376414076812,2.9974767448388193,4.064445306271282,3.495064988580334,3.929311384266649,-0.39147127803061466,3.103419600751523,1.7896308211830394,3.2751002681666277,2.2603493177341147,1.5916751433007512,2.1213725064424045,3.129465400336916,1.936752247008288,1.7951114556234002,1.25537706364676,0.3000380468414474,-1.0923720394638807,2.151296961746457,1.2813210031933213,3.1873351891362316,2.3430762324934635,1.0357478038173364,1.7377397799468597,2.9849621041374,2.094860050132923,1.8406396643602863,1.8559703533712972,1.2552952626933576,4.357927144528945,2.234811035946132,1.6394329477507767,1.418485487535496,1.2519966993091958,3.3687778519082947,4.589270369107892,1.7260570856591984,3.0192234842270116,3.445419588753841,1.478438744964432,1.7764149022900753,3.0154752018227517,0.3514667720455251,1.553331231681467,2.0654773003238365,2.6739797209410203,2.030942861087227,3.2347412589189055,1.58546499438919,-0.17763634084972324,2.1941532745065766,2.3155303114448227,1.265502374786014,3.120894081944314,2.5603371186973933,2.927593998442165,1.4099210396618203,2.013391239415138,2.214925347536817,0.7911479235502978,3.296314051240217,1.9290210403809032,0.6096340785295848,1.1609319168401404,1.4424836638204925,2.141183517537106,1.8577997589501618,1.8825101648427107,0.920504660127357,2.7007265061032433,1.616976618389807,0.8907900289591062,2.5492093206754936,3.1989984139225056,0.9364964291991176,1.1158281391095137,0.8569992718299853,3.4986215107439644,3.8454749251362723,2.9457994064196984,1.8244987587178103,3.1325801261424697,1.8523620737027142,2.0542312317953555,-0.16624591659748766,1.6430895779011965,3.742963101138475,3.4733197576708124,-1.6593636942347247,2.4371068576470596,2.6239111870883045,0.819987388015498,1.0942735998911353,1.681746770173499,3.9724940360987286,0.6275970947461491,1.7012413538251685,2.7560805524403515,2.3179565711447268,2.44033926588406,1.7892283720770485,1.2100751579980837,0.848206683719491,1.2811305602564649,2.4863378091920336,2.808718532330373,2.987116632558666,0.5999839457419778,3.291861047190933,1.9751284267180769,2.907011876306791,1.1755464417587964,2.1000185775743287,2.0821738361871684,4.0810459746017,2.2374793034438336,0.7984110477814848,3.150449650323356,0.6361970801701469,2.4621409920900192,0.5863569761839384,1.314421529474903,0.2914241786864522,3.1522943525117535,3.578457201688572,1.6784590121145553,3.7888032155017273,1.844654940234235,3.0029079927830105,2.64990979325238,1.1103024077765646,2.3783200181737705,1.7753133739943945,0.6863934854691571,3.7811204652937596,2.4798623773696247,1.7004414202745595,2.7632100714091545,3.96960202735601,2.0338757017316653,0.9954276315036386],\"type\":\"scatter3d\"},{\"marker\":{\"color\":\"green\",\"opacity\":0.8,\"size\":4},\"mode\":\"markers\",\"name\":\"1\",\"x\":[1.2369236841147968,2.8552823178779403,3.5617497694098947,3.099344324973406,-0.19930438612237156,2.434795409315475,2.108954344089227,2.3646317576746108,1.7019055557330423,2.5864894190903174,1.718835514061059,0.6744734074308087,1.6407824646740332,2.4098099631728727,0.46840748785659647,3.3479592777437266,0.2634636155698249,1.1314695995135509,2.4540705912638945,5.874381294480402,4.115871297837483,0.7886497286945009,1.442292773350846,2.222144245621389,3.022149824301696,1.547640627552072,1.2145968039846182,1.294488870746172,1.3792206802584244,1.6101387849120106,-0.16267410149503414,3.726172105036656,2.46788024444152,-0.19784522842046837,1.2130800195578941,3.678454492909047,4.322691474389206,1.71151174772865,3.0964914778307344,0.9686455703454051,2.4455563631934663,4.168275950836728,1.9562893887363337,2.2137447964876933,0.3796096008897685,1.984355926827536,1.0811395688656678,3.949993726533331,1.6574799230172639,1.2256212036940919,3.0737998872579864,1.495673603979092,1.9703600711127196,0.5336222919150777,2.4200184919701684,2.3940833551737524,1.3151140776751964,0.31467484083290764,2.222074465432326,3.8221369644720546,2.5962671325600506,0.9564896463958663,1.9366080666264718,1.5111775319557756,2.2746270468470104,1.3718182521307185,1.0851226523177853,2.2786975595649093,2.4361681483716158,1.8964013569928035,2.0475559932101755,4.912896074591343,0.9726572186686584,1.2100343232071196,0.47696165078707575,3.284303012367625,3.502571482222601,3.6849237228081337,1.2042209217071969,-0.07957228460778154,1.5869594919077115,-0.034637597447062074,1.9034081452784095,2.4435400187137652,2.9244652936235704,1.241008572196693,4.463717347304384,1.1849376274684467,3.1430606339378,2.457809670929496,0.45162998572526925,2.541001583957764,2.275084210792876,0.8903663405598152,1.8775083486564013,3.0355431302719573,1.0352059489168293,1.6036430495368723,2.3859341442746365,1.8688707471690695,1.5930340233926101,1.2919202882762941,1.0940917334578322,2.3472889635918817,-1.3252737219076627,-0.21801057661223489,1.6267107336666409,1.3481380249048218,1.765127587448136,2.3646565119459995,3.542031950135028,1.6579017148922197,1.901577347321079,3.710485885284673,0.5640414859104406,4.382819327393768,2.4607642961362175,2.5970897197360214,2.2402245278570687,1.9434991522891991,1.3645111716303837,0.8464539565304687,-0.7876651384720859,4.49292612389185,2.764545157479697,1.5345465535088005,1.7411259392705023,2.374715729447714,-1.2022110366559997,1.5064566840083173,3.7108724954301837,1.3431771434190412,3.566006393711148,0.4518514537106624,1.1350410118309124,1.9655900731849432,2.278731780284499,2.414430707038158,1.9871098910673546,1.2377670065693,2.009485309057399,2.114289736146149,1.668230722511407,3.40052979877063,1.991661497289835,2.2798311762886643,3.1855496772755325,1.41784337584286,2.4905797034556993],\"y\":[2.6035877764725504,0.46690105496269063,-1.0229476153104673,0.7505707090087501,4.566522350282457,2.519978954010407,1.0006463171314701,0.8009729677272963,3.396327299012031,1.3441685801785275,2.0971353084066178,3.02328762803182,2.0953613217025686,2.1453431520589556,4.619607962063719,1.0125623285961294,3.629179905824002,1.8723721760095124,1.8891300180843444,-2.3801137236728787,-0.9421476795397159,3.130300020160698,2.776699038885284,2.2609557604664676,0.6159899634827406,2.067091457474436,3.1770060750215077,2.574776438167529,2.3439687850419713,2.1397123403054668,4.139159035278089,-0.1677389555387574,1.590979754987984,3.114345414406638,3.0671496957001754,0.9587140205393929,-0.7205995040570308,3.294898516032698,0.3185363449125336,1.3591512394692034,1.5471170700538324,-0.6978564018241644,1.5284054090327865,2.2673810143707196,2.8150069000544806,3.0312433738154567,1.9646196918192365,-0.022526918407533625,2.510334750179858,2.8277194820398357,0.6327965503104982,1.5296364861609555,3.2529105805625473,3.131660620317997,0.6922736033320991,1.8762489097298767,2.2198306475715217,3.4427869121711985,1.4235115773469194,0.01860581266886041,1.5479741332401407,3.007972583886723,2.5327394444428046,2.908773836862561,0.11523336198317069,2.949557405570771,3.86798840377445,1.9361904307444553,2.560003302739549,2.3646808220879203,2.0597272367155197,-1.1197945924393893,3.0896017179662834,3.3635204932663108,3.7136909255431947,1.5125942017338794,0.4166480483433461,0.8065950752425115,3.118128171899987,5.0840310289578845,2.7956484944397255,4.356370646483375,2.1268850201329528,2.5728726979868384,0.8697261994841716,3.5470347639697053,-1.0494104816022158,2.448631521075148,0.9458954478033941,2.1408097059546685,2.7690124361562924,2.011317123812209,1.4704383929476914,3.385008096696404,1.9351735306314906,0.33350523842466795,3.730014103322637,1.5283895601440332,3.332537952855988,2.1596699553713576,1.7278722081734885,2.851700982837,3.6747020965695967,0.49330877958915376,4.904747964992078,3.9039187873668837,1.9817543028560678,1.8574572481351734,3.204401422337482,1.1323296555861275,0.4032167001684026,2.8232812513855596,3.4279532688800645,-0.6386807842022,2.8718568330089367,-0.7917886316035885,1.7045016073356059,1.439378504771303,1.869632580196628,1.5896295786936492,1.4901100332015198,3.254477436828468,4.811519313815765,-1.1589194692767926,1.2802481213142518,2.1972772065196566,2.3776096685461243,1.0492546384056547,5.440617757336311,2.271920132651445,0.8613466308415161,3.8014068858491816,1.325360441684948,2.9319564301891603,2.8999854557849813,2.4279256472246313,2.0063306133812593,1.792351354233141,1.7419347010519268,3.2557859481948848,2.407442742108358,1.085431998767699,3.3589312098127415,2.0460222889573982,2.4996486217496976,0.8243620081422516,0.2167359194928995,2.7500331949933328,0.5912052493564812],\"z\":[-1.9142710728312062,-0.9805436747553558,0.5128509636859717,-1.3331101593560344,-3.2402576950559,-3.2151097067236654,-0.9969271644991473,-0.5232384877572107,-3.367842261790316,-1.8991309234685736,-1.6366081129480428,-2.318820818089353,-1.7848231480783205,-2.596004380893112,-3.746458523475553,-2.0100740460837363,-2.1664586732543585,-0.7503880723387015,-2.394768319103141,-0.26639052681062014,-0.0042772167721911725,-2.1585328994074375,-2.3887598971174273,-2.262420881898721,-1.1399227775999745,-1.385533310191448,-2.7334410063734467,-1.9585172584733341,-1.8315075333676516,-1.5979413362672474,-2.520572486134128,-1.3927858281830918,-2.1910459815094048,-0.8827477324804587,-2.393438842385561,-2.5262031374417804,-0.9490143642293993,-3.5911309353710745,-0.8649672014789633,0.12343236635166122,-1.716032746120632,-0.4712635639654925,-1.3534897551117604,-2.3649516999745637,-1.4724392117609157,-3.571114662345617,-1.0086055193793726,-1.4027218122097453,-2.4099753879173,-1.9380589585402754,-1.0859910385736509,-0.46820628124889385,-3.7795875117868825,-2.0469106271988,-0.6985511786249126,-2.238444791133695,-1.4159048569703745,-2.09803514056377,-1.7882330484969406,-1.0571089692211433,-1.9284139869823327,-2.0842522139396076,-2.5619535683730543,-2.657091813892425,0.47528903273800127,-2.394392416651384,-3.344377747511228,-2.404856248894034,-3.051278188020256,-1.8257939843501854,-2.4201488767414516,-1.0956880613999789,-2.9035395826566015,-3.175692871556066,-2.5234451817218906,-2.7619658902340793,-1.590633256270007,-1.9339122722070257,-2.669972521774733,-4.3470654849363095,-2.4856197873404,-3.3197253162257416,-2.0496324832586623,-3.5260569973349583,-1.9631671245746376,-3.319622608164913,-0.7536742804046808,-1.7714930508454434,-1.8818787384550593,-2.5045663940785974,-1.6440128307891098,-2.843180674422454,-1.7785937014525435,-2.9335185979627227,-1.49447178199689,-0.784249617999762,-3.3294585107225005,-1.075646326260256,-4.6137855960793415,-1.8229019116853116,-0.6567433725906162,-2.428950442681754,-3.4357772800460484,-0.04218946151580827,-2.5562056586252484,-2.479547928089691,-1.2558426626357968,-1.3762961517376882,-3.4919799950766706,-1.1952423390583047,-1.778809733660409,-2.55750209495644,-4.040276616637627,-0.2799727658587363,-1.8032922214421048,-0.7760121131555595,-2.646515380802046,-1.837678663758016,-2.053042843149188,-1.918377947726565,-0.4615832203736636,-2.137970359021851,-2.661627046673238,-0.4367530971757283,-1.7875617744853964,-1.5293718404403407,-2.4317225588768157,-0.6552686995665233,-3.2230897942008423,-1.7890679601875905,-2.8152834726867475,-3.6275906725597027,-2.7394164676259027,-1.678659084936902,-2.6436910960787223,-2.496177035894398,-2.3431092391905013,-2.1707238812217384,-2.0226878372303467,-2.8620695037280672,-2.423926242370962,-0.6407805667449831,-3.4554935938253886,-3.743175195919256,-2.9763759558197656,-0.6691984108515923,-0.9165106079219099,-2.42915417028939,-0.3752222001723926],\"type\":\"scatter3d\"},{\"marker\":{\"color\":\"blue\",\"opacity\":0.8,\"size\":4},\"mode\":\"markers\",\"name\":\"2\",\"x\":[-2.5290104016973682,-0.9364583526734311,-1.2672599620466927,-2.8902036824673263,-3.1109112848269485,-1.7358658988270517,-2.1995312957190376,-1.5447207419824287,-3.998511323739674,-2.5717347062184714,-1.0075282686888425,-1.0706711583914432,-4.174192848694483,-2.7474744715853494,-2.4583093210244766,-5.157827292356737,-1.9829613683304919,0.7046556269116695,-2.0726882633252055,0.20307803883860842,-0.371079320863114,-3.0108044498679245,-3.4340191078393882,-2.7944245156559604,-0.7141967329445553,-2.9782362501048425,-2.312487244136863,-1.5946996297909428,-1.3643993263418204,-2.034827094749,3.4376824208001686,0.3802907593101539,-1.5781081869688371,-1.3076587171584118,-0.97579868568479,-1.153496426181334,0.5853522830707734,-0.5926817128130684,-2.4037874555624152,-2.0226771975368805,-4.420905819418985,0.24321142782524152,-2.0783320262684306,-2.0157822443296003,-1.7038862469898903,-1.6677249607344171,-1.585399512121446,-2.7875182422650364,-1.6429391273454348,-1.445963868652183,-0.4108002079679427,-1.9226798233180993,0.5204106507131443,-2.037159946671744,-3.995453656042649,-3.2869957814880535,-2.863934392582309,-1.0485964782227533,0.2727692589679265,-1.6078958842702498,-0.07080967690296713,-1.4417353996813111,-1.1854886905210296,-2.5133388263653433,-3.5518976132642637,-2.9036061784275238,-3.3215943215670087,-1.6146292121232446,-1.6373064381221463,-1.2566973404280377,-2.5623653011365626,-1.4379841770409496,-1.5381170863060103,-1.039724152237878,-2.751745191181941,-0.6370266686607284,-5.204013205020994,-1.5659239109583225,-2.177570665688617,-3.1755561913753434,-2.153553244927938,-0.9332684373116611,-2.134681220905963,-3.3152923305174307,-3.5251960438169485,1.3326782492963196,-0.7125756993803589,-2.272467965305691,-2.6670370064761784,-2.6944783093414006,-3.526223476542983,-4.48111511912685,-3.3790740599142874,-1.1079421028958132,-5.328426246283742,-3.0670947119123135,-1.8297973938157626,-0.7603619490678657,-2.322000951476518,-2.698698053275725,0.9457561762896818,-1.5122947537883091,-0.23510071497907337,-5.164955312121136,-2.094012643092716,-1.6301928523888924,-1.8083008202067503,-1.158204728440599,-4.919428221621164,-0.16515413541092916,-0.7195203556273817,-1.0926258364831605,-1.0170877904664535,-1.5074685125557186,-1.6430022520338365,-0.7529406250560597,-1.1879883253771621,-2.6143535937252205,-2.6200747618293665,-1.8763445613554857,-1.9555157809339265,-3.9780028114335533,-3.1906175761018867,-3.537241467284053,-2.278280142105685,-2.76518374009228,-0.5214570905350231,-2.719807962943067,-2.055090598942545,-2.7429491289871084,-0.42939595195847824,-1.0094230867719935,-3.2770486755168498,-2.4279683848231084,-2.68803009077498,-2.7804806454911706,-1.129472787101406,-1.2014750338988285,-2.133966504533324,-5.188953993987258,0.11338732299326226,-6.500825498727621,-1.91826500196215,-3.237830308082107,-3.083942928719793,-2.787870839395575,-1.1384907903302142,-0.609069909451166,-2.4066248466781466,-3.140459755554317],\"y\":[1.9630046843906224,1.1204335813654371,2.2722899417561746,2.102456507941258,2.0569555390010454,2.5318364213470326,2.1816292835311617,2.4867513853163867,1.3746179700805699,1.1333233672629437,0.8204437290246716,2.8742897837779258,2.7870112850856366,2.95354279902341,1.1662434892398372,1.8035204505738673,2.030974819028471,1.954155548066378,2.7585652025309138,0.6944833111637174,1.7994943479788763,1.7288916856818888,2.515666738635674,1.5656986375365562,1.5490836453739365,2.6768013925713703,2.488770080448026,1.0710410349516415,2.463012354237925,3.154093355820285,0.35617798096881925,2.3140875488946167,2.6269915474695944,2.7289687856052542,2.1367389759678894,1.17589536633669,2.6289808768984737,1.0788629335250648,1.7919060674970135,2.226124628230753,2.8326059264281986,1.8974316623142342,1.7454976496828454,2.0403694576359235,2.7855851711247843,2.841231533042227,3.1913097918793887,1.093776395172337,1.6072195467547208,1.7718935295681009,2.694820869544752,3.2487029932397524,1.2662950283467844,1.700767630967018,1.8148135154734895,2.716470956387751,2.4855463568439875,2.135027416328654,1.494459730252914,2.3050159180839307,1.7196255960370361,1.8576690705685603,2.472169026898799,2.006065534269862,2.527972967444691,1.7132092068684188,1.7180886629463206,2.5490628675387956,2.9453048813040064,1.7623559085479823,1.4849176940050015,2.830088749897633,2.1013430900046033,2.3009416040579307,2.9002311341886093,0.6488725235545694,1.9837591952020823,2.864765364285538,1.490541361660229,1.543040993734558,2.1913370965050056,2.3715684211207524,2.2621149405154033,2.073865191368346,3.3653224120269445,1.773259503132217,1.3462078038136474,2.681919487827957,2.098668738256731,2.8665429582848128,3.0453605423097136,1.841083888006109,1.9651156465715527,2.9639075852036125,2.4308265607507287,1.218192042170838,2.0972866024839583,1.2903597076231292,1.7201447714879285,0.988727628229044,2.2728588754668757,2.988062464696893,2.339698427694022,2.6273112010261266,1.245317267053804,2.1399903190372944,2.0733139262891807,1.0230177463481207,2.807516869886731,1.8438596783849523,1.987061624606431,2.7650947558175187,1.6429177965730015,1.9509048993753584,2.3779303927688855,2.6696398034893307,1.761178240595914,2.3612371056241988,1.72578311355409,1.3002650345165063,2.0696492276340055,2.0740238448609536,1.713949337147537,2.4873450769690746,2.226603388783787,2.615842532028419,0.40161281706002105,1.6715365836951102,2.1416043246257312,3.1548913193957087,1.7563610229513062,2.369765387975125,2.5292964585855993,0.9880161342333638,2.462038695164779,1.5400513341874174,1.2039880803718521,2.619652836194524,1.8289727337691057,3.080257359901008,1.9038398470148385,3.0708180822461344,1.545569072769971,1.6925581067665523,1.6967500828148965,1.8692842322642778,1.847082139715728,1.855165196569044,0.3700407047491825,2.1340594997228393],\"z\":[2.489090308556526,1.3531341792048006,0.7398976104619557,2.4312644945533632,2.7817935884156464,2.8977114375652953,1.0698414065810464,2.5877480451301462,2.960495392726454,2.0230530988751187,1.4601277354567543,1.8909341805554776,3.818668711504685,3.027432942885387,1.6417911526099722,4.209656303509059,1.925733756349801,-0.14966082353061427,3.4352918973493485,0.3312534999253962,0.09302977278612778,3.741057389374366,3.243979656087787,2.976415654693059,0.5158812947606712,2.9354317367138076,2.3996505871254437,0.9084772193820021,1.878211897545702,1.27732061835728,-3.888348399131343,-1.245056787103668,2.7184354491638043,1.7280747709557553,2.6965648166412155,0.7772514056783522,-0.5259977928551685,1.1759829699583455,1.8361454607670713,3.1761587918823135,3.87776643853306,0.25992811336928767,3.028354443009923,0.9310483486662602,1.2725940479390492,1.5304488066625095,3.2979587663574375,2.540288775421649,1.1845582187674013,0.5293477143147594,-0.25166319155799455,2.830887357913054,-0.48435154106791023,2.2611589764365134,4.195839227437028,3.766592491701622,2.4748111889322235,2.3031040127007927,0.6294044469918647,3.408133755515134,-0.5276091374817553,0.8723681210971361,2.10541138880921,2.1084475466815342,3.9803107812505445,2.796339071314101,2.171300252606296,3.1781922778182867,2.421938042313359,1.025641934910002,0.19484608885168364,1.1799516609665175,0.8493815552169293,1.6731098713371009,2.3087981139522893,0.8179406002183098,4.4093850913846095,2.4490230471717416,2.0199924334550134,2.983073985923742,1.3333793371591094,0.4185769228534857,3.2873193543249855,2.872156681217944,3.940429144061233,-1.5748430522326662,-0.5088023295832174,3.0363457268773653,2.0226078767293982,4.418602371067975,4.394111736307586,4.73507875179927,2.5032231926658737,0.5545756395475938,5.232635949369627,1.611361002897308,2.1964633776092994,1.6288039864737183,2.3227600520639897,2.279427667841078,-0.7949424349057037,1.2236536374747753,-0.07371534593819185,4.440410316687636,2.4239332530923963,2.0347460981482186,1.048976669816866,1.4493872286728693,4.385685747457449,0.0728486504110959,0.8149999764378353,1.0055239321092768,1.5813203918246215,1.7377595485049122,1.8633394819397477,-0.6910164320601186,0.1605070449883763,3.4617015947279164,3.8397812063605055,2.1339014164338908,1.9066587268394701,4.145292267048447,3.60932745907781,3.2401325063727606,2.640410966857628,1.9374632634258764,-0.5335804081360993,3.3234962623796926,1.8501557915808289,2.6769745681644794,1.2894191151135055,0.6611106851197941,3.376067651701213,2.525758749203664,2.0690113526197846,2.998582097768697,0.3924044831486151,1.528488186934339,2.395940430631828,6.191550566301906,0.06570876316498353,6.153764902883969,3.4182376242524306,2.5394358213825656,1.138421456071118,2.308937418257,1.7162968741773106,1.0436267105908137,0.5880752904277124,3.46745837367521],\"type\":\"scatter3d\"}],                        {\"scene\":{\"xaxis\":{\"title\":{\"text\":\"Feature 1\"}},\"yaxis\":{\"title\":{\"text\":\"Feature 2\"}},\"zaxis\":{\"title\":{\"text\":\"Feature 3\"}}},\"title\":{\"text\":\"3D Scatter plot of the dataset\"},\"template\":{\"data\":{\"histogram2dcontour\":[{\"type\":\"histogram2dcontour\",\"colorbar\":{\"outlinewidth\":0,\"ticks\":\"\"},\"colorscale\":[[0.0,\"#0d0887\"],[0.1111111111111111,\"#46039f\"],[0.2222222222222222,\"#7201a8\"],[0.3333333333333333,\"#9c179e\"],[0.4444444444444444,\"#bd3786\"],[0.5555555555555556,\"#d8576b\"],[0.6666666666666666,\"#ed7953\"],[0.7777777777777778,\"#fb9f3a\"],[0.8888888888888888,\"#fdca26\"],[1.0,\"#f0f921\"]]}],\"choropleth\":[{\"type\":\"choropleth\",\"colorbar\":{\"outlinewidth\":0,\"ticks\":\"\"}}],\"histogram2d\":[{\"type\":\"histogram2d\",\"colorbar\":{\"outlinewidth\":0,\"ticks\":\"\"},\"colorscale\":[[0.0,\"#0d0887\"],[0.1111111111111111,\"#46039f\"],[0.2222222222222222,\"#7201a8\"],[0.3333333333333333,\"#9c179e\"],[0.4444444444444444,\"#bd3786\"],[0.5555555555555556,\"#d8576b\"],[0.6666666666666666,\"#ed7953\"],[0.7777777777777778,\"#fb9f3a\"],[0.8888888888888888,\"#fdca26\"],[1.0,\"#f0f921\"]]}],\"heatmap\":[{\"type\":\"heatmap\",\"colorbar\":{\"outlinewidth\":0,\"ticks\":\"\"},\"colorscale\":[[0.0,\"#0d0887\"],[0.1111111111111111,\"#46039f\"],[0.2222222222222222,\"#7201a8\"],[0.3333333333333333,\"#9c179e\"],[0.4444444444444444,\"#bd3786\"],[0.5555555555555556,\"#d8576b\"],[0.6666666666666666,\"#ed7953\"],[0.7777777777777778,\"#fb9f3a\"],[0.8888888888888888,\"#fdca26\"],[1.0,\"#f0f921\"]]}],\"heatmapgl\":[{\"type\":\"heatmapgl\",\"colorbar\":{\"outlinewidth\":0,\"ticks\":\"\"},\"colorscale\":[[0.0,\"#0d0887\"],[0.1111111111111111,\"#46039f\"],[0.2222222222222222,\"#7201a8\"],[0.3333333333333333,\"#9c179e\"],[0.4444444444444444,\"#bd3786\"],[0.5555555555555556,\"#d8576b\"],[0.6666666666666666,\"#ed7953\"],[0.7777777777777778,\"#fb9f3a\"],[0.8888888888888888,\"#fdca26\"],[1.0,\"#f0f921\"]]}],\"contourcarpet\":[{\"type\":\"contourcarpet\",\"colorbar\":{\"outlinewidth\":0,\"ticks\":\"\"}}],\"contour\":[{\"type\":\"contour\",\"colorbar\":{\"outlinewidth\":0,\"ticks\":\"\"},\"colorscale\":[[0.0,\"#0d0887\"],[0.1111111111111111,\"#46039f\"],[0.2222222222222222,\"#7201a8\"],[0.3333333333333333,\"#9c179e\"],[0.4444444444444444,\"#bd3786\"],[0.5555555555555556,\"#d8576b\"],[0.6666666666666666,\"#ed7953\"],[0.7777777777777778,\"#fb9f3a\"],[0.8888888888888888,\"#fdca26\"],[1.0,\"#f0f921\"]]}],\"surface\":[{\"type\":\"surface\",\"colorbar\":{\"outlinewidth\":0,\"ticks\":\"\"},\"colorscale\":[[0.0,\"#0d0887\"],[0.1111111111111111,\"#46039f\"],[0.2222222222222222,\"#7201a8\"],[0.3333333333333333,\"#9c179e\"],[0.4444444444444444,\"#bd3786\"],[0.5555555555555556,\"#d8576b\"],[0.6666666666666666,\"#ed7953\"],[0.7777777777777778,\"#fb9f3a\"],[0.8888888888888888,\"#fdca26\"],[1.0,\"#f0f921\"]]}],\"mesh3d\":[{\"type\":\"mesh3d\",\"colorbar\":{\"outlinewidth\":0,\"ticks\":\"\"}}],\"scatter\":[{\"fillpattern\":{\"fillmode\":\"overlay\",\"size\":10,\"solidity\":0.2},\"type\":\"scatter\"}],\"parcoords\":[{\"type\":\"parcoords\",\"line\":{\"colorbar\":{\"outlinewidth\":0,\"ticks\":\"\"}}}],\"scatterpolargl\":[{\"type\":\"scatterpolargl\",\"marker\":{\"colorbar\":{\"outlinewidth\":0,\"ticks\":\"\"}}}],\"bar\":[{\"error_x\":{\"color\":\"#2a3f5f\"},\"error_y\":{\"color\":\"#2a3f5f\"},\"marker\":{\"line\":{\"color\":\"#E5ECF6\",\"width\":0.5},\"pattern\":{\"fillmode\":\"overlay\",\"size\":10,\"solidity\":0.2}},\"type\":\"bar\"}],\"scattergeo\":[{\"type\":\"scattergeo\",\"marker\":{\"colorbar\":{\"outlinewidth\":0,\"ticks\":\"\"}}}],\"scatterpolar\":[{\"type\":\"scatterpolar\",\"marker\":{\"colorbar\":{\"outlinewidth\":0,\"ticks\":\"\"}}}],\"histogram\":[{\"marker\":{\"pattern\":{\"fillmode\":\"overlay\",\"size\":10,\"solidity\":0.2}},\"type\":\"histogram\"}],\"scattergl\":[{\"type\":\"scattergl\",\"marker\":{\"colorbar\":{\"outlinewidth\":0,\"ticks\":\"\"}}}],\"scatter3d\":[{\"type\":\"scatter3d\",\"line\":{\"colorbar\":{\"outlinewidth\":0,\"ticks\":\"\"}},\"marker\":{\"colorbar\":{\"outlinewidth\":0,\"ticks\":\"\"}}}],\"scattermapbox\":[{\"type\":\"scattermapbox\",\"marker\":{\"colorbar\":{\"outlinewidth\":0,\"ticks\":\"\"}}}],\"scatterternary\":[{\"type\":\"scatterternary\",\"marker\":{\"colorbar\":{\"outlinewidth\":0,\"ticks\":\"\"}}}],\"scattercarpet\":[{\"type\":\"scattercarpet\",\"marker\":{\"colorbar\":{\"outlinewidth\":0,\"ticks\":\"\"}}}],\"carpet\":[{\"aaxis\":{\"endlinecolor\":\"#2a3f5f\",\"gridcolor\":\"white\",\"linecolor\":\"white\",\"minorgridcolor\":\"white\",\"startlinecolor\":\"#2a3f5f\"},\"baxis\":{\"endlinecolor\":\"#2a3f5f\",\"gridcolor\":\"white\",\"linecolor\":\"white\",\"minorgridcolor\":\"white\",\"startlinecolor\":\"#2a3f5f\"},\"type\":\"carpet\"}],\"table\":[{\"cells\":{\"fill\":{\"color\":\"#EBF0F8\"},\"line\":{\"color\":\"white\"}},\"header\":{\"fill\":{\"color\":\"#C8D4E3\"},\"line\":{\"color\":\"white\"}},\"type\":\"table\"}],\"barpolar\":[{\"marker\":{\"line\":{\"color\":\"#E5ECF6\",\"width\":0.5},\"pattern\":{\"fillmode\":\"overlay\",\"size\":10,\"solidity\":0.2}},\"type\":\"barpolar\"}],\"pie\":[{\"automargin\":true,\"type\":\"pie\"}]},\"layout\":{\"autotypenumbers\":\"strict\",\"colorway\":[\"#636efa\",\"#EF553B\",\"#00cc96\",\"#ab63fa\",\"#FFA15A\",\"#19d3f3\",\"#FF6692\",\"#B6E880\",\"#FF97FF\",\"#FECB52\"],\"font\":{\"color\":\"#2a3f5f\"},\"hovermode\":\"closest\",\"hoverlabel\":{\"align\":\"left\"},\"paper_bgcolor\":\"white\",\"plot_bgcolor\":\"#E5ECF6\",\"polar\":{\"bgcolor\":\"#E5ECF6\",\"angularaxis\":{\"gridcolor\":\"white\",\"linecolor\":\"white\",\"ticks\":\"\"},\"radialaxis\":{\"gridcolor\":\"white\",\"linecolor\":\"white\",\"ticks\":\"\"}},\"ternary\":{\"bgcolor\":\"#E5ECF6\",\"aaxis\":{\"gridcolor\":\"white\",\"linecolor\":\"white\",\"ticks\":\"\"},\"baxis\":{\"gridcolor\":\"white\",\"linecolor\":\"white\",\"ticks\":\"\"},\"caxis\":{\"gridcolor\":\"white\",\"linecolor\":\"white\",\"ticks\":\"\"}},\"coloraxis\":{\"colorbar\":{\"outlinewidth\":0,\"ticks\":\"\"}},\"colorscale\":{\"sequential\":[[0.0,\"#0d0887\"],[0.1111111111111111,\"#46039f\"],[0.2222222222222222,\"#7201a8\"],[0.3333333333333333,\"#9c179e\"],[0.4444444444444444,\"#bd3786\"],[0.5555555555555556,\"#d8576b\"],[0.6666666666666666,\"#ed7953\"],[0.7777777777777778,\"#fb9f3a\"],[0.8888888888888888,\"#fdca26\"],[1.0,\"#f0f921\"]],\"sequentialminus\":[[0.0,\"#0d0887\"],[0.1111111111111111,\"#46039f\"],[0.2222222222222222,\"#7201a8\"],[0.3333333333333333,\"#9c179e\"],[0.4444444444444444,\"#bd3786\"],[0.5555555555555556,\"#d8576b\"],[0.6666666666666666,\"#ed7953\"],[0.7777777777777778,\"#fb9f3a\"],[0.8888888888888888,\"#fdca26\"],[1.0,\"#f0f921\"]],\"diverging\":[[0,\"#8e0152\"],[0.1,\"#c51b7d\"],[0.2,\"#de77ae\"],[0.3,\"#f1b6da\"],[0.4,\"#fde0ef\"],[0.5,\"#f7f7f7\"],[0.6,\"#e6f5d0\"],[0.7,\"#b8e186\"],[0.8,\"#7fbc41\"],[0.9,\"#4d9221\"],[1,\"#276419\"]]},\"xaxis\":{\"gridcolor\":\"white\",\"linecolor\":\"white\",\"ticks\":\"\",\"title\":{\"standoff\":15},\"zerolinecolor\":\"white\",\"automargin\":true,\"zerolinewidth\":2},\"yaxis\":{\"gridcolor\":\"white\",\"linecolor\":\"white\",\"ticks\":\"\",\"title\":{\"standoff\":15},\"zerolinecolor\":\"white\",\"automargin\":true,\"zerolinewidth\":2},\"scene\":{\"xaxis\":{\"backgroundcolor\":\"#E5ECF6\",\"gridcolor\":\"white\",\"linecolor\":\"white\",\"showbackground\":true,\"ticks\":\"\",\"zerolinecolor\":\"white\",\"gridwidth\":2},\"yaxis\":{\"backgroundcolor\":\"#E5ECF6\",\"gridcolor\":\"white\",\"linecolor\":\"white\",\"showbackground\":true,\"ticks\":\"\",\"zerolinecolor\":\"white\",\"gridwidth\":2},\"zaxis\":{\"backgroundcolor\":\"#E5ECF6\",\"gridcolor\":\"white\",\"linecolor\":\"white\",\"showbackground\":true,\"ticks\":\"\",\"zerolinecolor\":\"white\",\"gridwidth\":2}},\"shapedefaults\":{\"line\":{\"color\":\"#2a3f5f\"}},\"annotationdefaults\":{\"arrowcolor\":\"#2a3f5f\",\"arrowhead\":0,\"arrowwidth\":1},\"geo\":{\"bgcolor\":\"white\",\"landcolor\":\"#E5ECF6\",\"subunitcolor\":\"white\",\"showland\":true,\"showlakes\":true,\"lakecolor\":\"white\"},\"title\":{\"x\":0.05},\"mapbox\":{\"style\":\"light\"}}}},                        {\"responsive\": true}                    ).then(function(){\n",
       "                            \n",
       "var gd = document.getElementById('778f21fb-a508-4f40-ba62-bd1de112a482');\n",
       "var x = new MutationObserver(function (mutations, observer) {{\n",
       "        var display = window.getComputedStyle(gd).display;\n",
       "        if (!display || display === 'none') {{\n",
       "            console.log([gd, 'removed!']);\n",
       "            Plotly.purge(gd);\n",
       "            observer.disconnect();\n",
       "        }}\n",
       "}});\n",
       "\n",
       "// Listen for the removal of the full notebook cells\n",
       "var notebookContainer = gd.closest('#notebook-container');\n",
       "if (notebookContainer) {{\n",
       "    x.observe(notebookContainer, {childList: true});\n",
       "}}\n",
       "\n",
       "// Listen for the clearing of the current output cell\n",
       "var outputEl = gd.closest('.output');\n",
       "if (outputEl) {{\n",
       "    x.observe(outputEl, {childList: true});\n",
       "}}\n",
       "\n",
       "                        })                };                });            </script>        </div>"
      ]
     },
     "metadata": {},
     "output_type": "display_data"
    }
   ],
   "source": [
    "import plotly.graph_objs as go\n",
    "\n",
    "data = []\n",
    "colors = ['red','green','blue']\n",
    "for i in range(3):\n",
    "    trace = go.Scatter3d(\n",
    "        x=X[y == i][:, 0],\n",
    "        y=X[y == i][:, 1],\n",
    "        z=X[y == i][:, 2],\n",
    "        mode='markers',\n",
    "        marker=dict(\n",
    "            size=4,\n",
    "            color=colors[i],\n",
    "            opacity=0.8\n",
    "        ),\n",
    "        name = i\n",
    "    )\n",
    "    data.append(trace)\n",
    "\n",
    "layout = go.Layout(\n",
    "    title='3D Scatter plot of the dataset',\n",
    "    scene=dict(\n",
    "        xaxis=dict(title = 'Feature 1'),\n",
    "        yaxis=dict(title = 'Feature 2'),\n",
    "        zaxis=dict(title = 'Feature 3')\n",
    "    )\n",
    ")\n",
    "\n",
    "fig = go.Figure(data=data, layout=layout)\n",
    "fig.show()\n"
   ]
  },
  {
   "cell_type": "markdown",
   "id": "99577152",
   "metadata": {},
   "source": [
    "#### Now testing the model and printing accuracy with different values of k"
   ]
  },
  {
   "cell_type": "code",
   "execution_count": 29,
   "id": "55cfd63c",
   "metadata": {},
   "outputs": [],
   "source": [
    "X_train, X_test, y_train, y_test = train_test_split(X, y, test_size=0.20, random_state = 1)"
   ]
  },
  {
   "cell_type": "code",
   "execution_count": 30,
   "id": "2c9e27d0",
   "metadata": {},
   "outputs": [
    {
     "name": "stdout",
     "output_type": "stream",
     "text": [
      "0.98\n"
     ]
    }
   ],
   "source": [
    "classifier_9 = KNN(k = 5)\n",
    "classifier_9.fit(X_train, y_train)\n",
    "predictions = classifier_9.predict(X_test)\n",
    "acc = np.sum(predictions == y_test) / len(y_test)\n",
    "print(acc)"
   ]
  },
  {
   "cell_type": "code",
   "execution_count": 31,
   "id": "e9d44445",
   "metadata": {},
   "outputs": [
    {
     "name": "stdout",
     "output_type": "stream",
     "text": [
      "0.99\n"
     ]
    }
   ],
   "source": [
    "classifier_10 = KNN(k = 6)\n",
    "classifier_10.fit(X_train, y_train)\n",
    "predictions = classifier_10.predict(X_test)\n",
    "acc = np.sum(predictions == y_test) / len(y_test)\n",
    "print(acc)"
   ]
  },
  {
   "cell_type": "code",
   "execution_count": 32,
   "id": "552bc123",
   "metadata": {},
   "outputs": [
    {
     "name": "stdout",
     "output_type": "stream",
     "text": [
      "0.99\n"
     ]
    }
   ],
   "source": [
    "classifier_11 = KNN(k = 20)\n",
    "classifier_11.fit(X_train, y_train)\n",
    "predictions = classifier_11.predict(X_test)\n",
    "acc = np.sum(predictions == y_test) / len(y_test)\n",
    "print(acc)"
   ]
  },
  {
   "cell_type": "markdown",
   "id": "ff849f2e",
   "metadata": {},
   "source": [
    "Now the accuracy is quite good when the data was generated with the given probabilities. This shows that the KNN algorithm performs very good on datasets with a clear pattern and where the decision boundary is smooth.\n",
    "And it doesn't perform well when the data is highly imbalanced."
   ]
  },
  {
   "cell_type": "code",
   "execution_count": null,
   "id": "e4cd59e4",
   "metadata": {},
   "outputs": [],
   "source": []
  }
 ],
 "metadata": {
  "kernelspec": {
   "display_name": "Python 3 (ipykernel)",
   "language": "python",
   "name": "python3"
  },
  "language_info": {
   "codemirror_mode": {
    "name": "ipython",
    "version": 3
   },
   "file_extension": ".py",
   "mimetype": "text/x-python",
   "name": "python",
   "nbconvert_exporter": "python",
   "pygments_lexer": "ipython3",
   "version": "3.10.6"
  }
 },
 "nbformat": 4,
 "nbformat_minor": 5
}
